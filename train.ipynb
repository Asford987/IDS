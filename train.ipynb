{
 "cells": [
  {
   "cell_type": "code",
   "execution_count": 1,
   "metadata": {},
   "outputs": [],
   "source": [
    "import warnings\n",
    "warnings.filterwarnings(\"ignore\")\n",
    "import pandas as pd\n",
    "import numpy as np\n",
    "import os\n",
    "os.environ['TF_CPP_MIN_LOG_LEVEL'] = '2'\n",
    "\n",
    "import numpy as np\n",
    "from moe import *\n",
    "import pytorch_lightning as pl\n",
    "from pytorch_lightning.loggers import TensorBoardLogger\n",
    "from pytorch_lightning.callbacks import LearningRateMonitor\n",
    "from torch.utils.data import DataLoader, TensorDataset"
   ]
  },
  {
   "cell_type": "code",
   "execution_count": 2,
   "metadata": {},
   "outputs": [],
   "source": [
    "data_train = pd.read_parquet('data/CIC_2018' + '/train_dataset_treated.parquet')\n",
    "data_test = pd.read_parquet('data/CIC_2018' + '/test_dataset_treated.parquet')\n",
    "dropout_rate = 0.1\n",
    "\n",
    "X_train = data_train.drop(columns=['Label']).astype(np.float32)\n",
    "X_test = data_test.drop(columns=['Label']).astype(np.float32)\n",
    "\n",
    "y_train = np.asarray(data_train['Label'].astype('category').cat.codes, np.int64)\n",
    "y_test = np.asarray(data_test['Label'].astype('category').cat.codes, np.int64)"
   ]
  },
  {
   "cell_type": "code",
   "execution_count": 3,
   "metadata": {},
   "outputs": [],
   "source": [
    "gate = GateModel(X_train.shape[1], 14, [256, 128], dropout_rate)"
   ]
  },
  {
   "cell_type": "code",
   "execution_count": 4,
   "metadata": {},
   "outputs": [],
   "source": [
    "logger = TensorBoardLogger(\"logs\", name=\"gate_tensorboard\")\n",
    "csv_logger = pl.loggers.CSVLogger(\"logs\", name=\"gate_csv\")\n",
    "lr_monitor = LearningRateMonitor(logging_interval='epoch')\n",
    "\n",
    "train_loader = DataLoader(TensorDataset(torch.tensor(X_train.values, device='cuda'), \n",
    "                                torch.tensor(y_train, device='cuda')), batch_size=4096, shuffle=True)\n",
    "val_loader = DataLoader(TensorDataset(torch.tensor(X_test.values, device='cuda'), \n",
    "                                        torch.tensor(y_test, device='cuda')), batch_size=4096)\n",
    "\n",
    "\n",
    "trainer = pl.Trainer(                \n",
    "        max_epochs=50,\n",
    "        logger=[logger, csv_logger],\n",
    "        callbacks=[lr_monitor],\n",
    "        accelerator='gpu',\n",
    ")\n",
    "\n",
    "trainer.fit(gate, train_loader, val_loader)"
   ]
  }
 ],
 "metadata": {
  "kernelspec": {
   "display_name": "env",
   "language": "python",
   "name": "python3"
  },
  "language_info": {
   "codemirror_mode": {
    "name": "ipython",
    "version": 3
   },
   "file_extension": ".py",
   "mimetype": "text/x-python",
   "name": "python",
   "nbconvert_exporter": "python",
   "pygments_lexer": "ipython3",
   "version": "3.11.9"
  }
 },
 "nbformat": 4,
 "nbformat_minor": 2
}
