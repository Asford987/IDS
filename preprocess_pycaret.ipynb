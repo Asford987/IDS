{
 "cells": [
  {
   "cell_type": "code",
   "execution_count": 1,
   "metadata": {},
   "outputs": [],
   "source": [
    "import warnings\n",
    "warnings.filterwarnings(\"ignore\")\n",
    "import pandas as pd\n",
    "import numpy as np\n",
    "import os\n",
    "os.environ['TF_CPP_MIN_LOG_LEVEL'] = '2'\n",
    "\n",
    "import numpy as np\n",
    "from moe import *\n",
    "import pytorch_lightning as pl\n",
    "from pytorch_lightning.loggers import TensorBoardLogger\n",
    "from pytorch_lightning.callbacks import LearningRateMonitor\n",
    "from torch.utils.data import DataLoader, TensorDataset\n",
    "from sklearn.model_selection import train_test_split\n",
    "from sklearn.utils.class_weight import compute_class_weight\n",
    "from pycaret.classification import *"
   ]
  },
  {
   "cell_type": "code",
   "execution_count": 2,
   "metadata": {},
   "outputs": [],
   "source": [
    "df_train = pd.read_parquet('CIC_IoMT_2024_WiFi_MQTT_train.parquet')\n",
    "df_test = pd.read_parquet('CIC_IoMT_2024_WiFi_MQTT_test.parquet')"
   ]
  },
  {
   "cell_type": "code",
   "execution_count": 3,
   "metadata": {},
   "outputs": [],
   "source": [
    "def map_label(label):\n",
    "    if 'Benign' in label:\n",
    "        return 'benign'\n",
    "    elif 'ARP_Spoofing' in label:\n",
    "        return 'spoofing'\n",
    "    elif 'Recon' in label:\n",
    "        return 'recon'\n",
    "    elif 'MQTT' in label:\n",
    "        return 'MQTT'\n",
    "    elif 'DoS' in label and 'DDoS' not in label:\n",
    "        return 'DoS'\n",
    "    elif 'DDoS' in label:\n",
    "        return 'DDoS'\n",
    "    \n",
    "df_train['label'] = df_train['label'].map(map_label)\n",
    "df_test['label'] = df_test['label'].map(map_label)"
   ]
  },
  {
   "cell_type": "code",
   "execution_count": 4,
   "metadata": {},
   "outputs": [],
   "source": [
    "fraction_train_data, _ = train_test_split(df_train, train_size=0.5, shuffle=True, stratify=df_train['label'])"
   ]
  },
  {
   "cell_type": "code",
   "execution_count": 5,
   "metadata": {},
   "outputs": [
    {
     "data": {
      "text/html": [
       "<style type=\"text/css\">\n",
       "#T_7ceba_row9_col1 {\n",
       "  background-color: lightgreen;\n",
       "}\n",
       "</style>\n",
       "<table id=\"T_7ceba\">\n",
       "  <thead>\n",
       "    <tr>\n",
       "      <th class=\"blank level0\" >&nbsp;</th>\n",
       "      <th id=\"T_7ceba_level0_col0\" class=\"col_heading level0 col0\" >Description</th>\n",
       "      <th id=\"T_7ceba_level0_col1\" class=\"col_heading level0 col1\" >Value</th>\n",
       "    </tr>\n",
       "  </thead>\n",
       "  <tbody>\n",
       "    <tr>\n",
       "      <th id=\"T_7ceba_level0_row0\" class=\"row_heading level0 row0\" >0</th>\n",
       "      <td id=\"T_7ceba_row0_col0\" class=\"data row0 col0\" >Session id</td>\n",
       "      <td id=\"T_7ceba_row0_col1\" class=\"data row0 col1\" >1234</td>\n",
       "    </tr>\n",
       "    <tr>\n",
       "      <th id=\"T_7ceba_level0_row1\" class=\"row_heading level0 row1\" >1</th>\n",
       "      <td id=\"T_7ceba_row1_col0\" class=\"data row1 col0\" >Target</td>\n",
       "      <td id=\"T_7ceba_row1_col1\" class=\"data row1 col1\" >label</td>\n",
       "    </tr>\n",
       "    <tr>\n",
       "      <th id=\"T_7ceba_level0_row2\" class=\"row_heading level0 row2\" >2</th>\n",
       "      <td id=\"T_7ceba_row2_col0\" class=\"data row2 col0\" >Target type</td>\n",
       "      <td id=\"T_7ceba_row2_col1\" class=\"data row2 col1\" >Multiclass</td>\n",
       "    </tr>\n",
       "    <tr>\n",
       "      <th id=\"T_7ceba_level0_row3\" class=\"row_heading level0 row3\" >3</th>\n",
       "      <td id=\"T_7ceba_row3_col0\" class=\"data row3 col0\" >Target mapping</td>\n",
       "      <td id=\"T_7ceba_row3_col1\" class=\"data row3 col1\" >DDoS: 0, DoS: 1, MQTT: 2, benign: 3, recon: 4, spoofing: 5</td>\n",
       "    </tr>\n",
       "    <tr>\n",
       "      <th id=\"T_7ceba_level0_row4\" class=\"row_heading level0 row4\" >4</th>\n",
       "      <td id=\"T_7ceba_row4_col0\" class=\"data row4 col0\" >Original data shape</td>\n",
       "      <td id=\"T_7ceba_row4_col1\" class=\"data row4 col1\" >(5194597, 46)</td>\n",
       "    </tr>\n",
       "    <tr>\n",
       "      <th id=\"T_7ceba_level0_row5\" class=\"row_heading level0 row5\" >5</th>\n",
       "      <td id=\"T_7ceba_row5_col0\" class=\"data row5 col0\" >Transformed data shape</td>\n",
       "      <td id=\"T_7ceba_row5_col1\" class=\"data row5 col1\" >(5194597, 46)</td>\n",
       "    </tr>\n",
       "    <tr>\n",
       "      <th id=\"T_7ceba_level0_row6\" class=\"row_heading level0 row6\" >6</th>\n",
       "      <td id=\"T_7ceba_row6_col0\" class=\"data row6 col0\" >Transformed train set shape</td>\n",
       "      <td id=\"T_7ceba_row6_col1\" class=\"data row6 col1\" >(3580415, 46)</td>\n",
       "    </tr>\n",
       "    <tr>\n",
       "      <th id=\"T_7ceba_level0_row7\" class=\"row_heading level0 row7\" >7</th>\n",
       "      <td id=\"T_7ceba_row7_col0\" class=\"data row7 col0\" >Transformed test set shape</td>\n",
       "      <td id=\"T_7ceba_row7_col1\" class=\"data row7 col1\" >(1614182, 46)</td>\n",
       "    </tr>\n",
       "    <tr>\n",
       "      <th id=\"T_7ceba_level0_row8\" class=\"row_heading level0 row8\" >8</th>\n",
       "      <td id=\"T_7ceba_row8_col0\" class=\"data row8 col0\" >Numeric features</td>\n",
       "      <td id=\"T_7ceba_row8_col1\" class=\"data row8 col1\" >45</td>\n",
       "    </tr>\n",
       "    <tr>\n",
       "      <th id=\"T_7ceba_level0_row9\" class=\"row_heading level0 row9\" >9</th>\n",
       "      <td id=\"T_7ceba_row9_col0\" class=\"data row9 col0\" >Preprocess</td>\n",
       "      <td id=\"T_7ceba_row9_col1\" class=\"data row9 col1\" >True</td>\n",
       "    </tr>\n",
       "    <tr>\n",
       "      <th id=\"T_7ceba_level0_row10\" class=\"row_heading level0 row10\" >10</th>\n",
       "      <td id=\"T_7ceba_row10_col0\" class=\"data row10 col0\" >Imputation type</td>\n",
       "      <td id=\"T_7ceba_row10_col1\" class=\"data row10 col1\" >simple</td>\n",
       "    </tr>\n",
       "    <tr>\n",
       "      <th id=\"T_7ceba_level0_row11\" class=\"row_heading level0 row11\" >11</th>\n",
       "      <td id=\"T_7ceba_row11_col0\" class=\"data row11 col0\" >Numeric imputation</td>\n",
       "      <td id=\"T_7ceba_row11_col1\" class=\"data row11 col1\" >mean</td>\n",
       "    </tr>\n",
       "    <tr>\n",
       "      <th id=\"T_7ceba_level0_row12\" class=\"row_heading level0 row12\" >12</th>\n",
       "      <td id=\"T_7ceba_row12_col0\" class=\"data row12 col0\" >Categorical imputation</td>\n",
       "      <td id=\"T_7ceba_row12_col1\" class=\"data row12 col1\" >mode</td>\n",
       "    </tr>\n",
       "    <tr>\n",
       "      <th id=\"T_7ceba_level0_row13\" class=\"row_heading level0 row13\" >13</th>\n",
       "      <td id=\"T_7ceba_row13_col0\" class=\"data row13 col0\" >Fold Generator</td>\n",
       "      <td id=\"T_7ceba_row13_col1\" class=\"data row13 col1\" >StratifiedKFold</td>\n",
       "    </tr>\n",
       "    <tr>\n",
       "      <th id=\"T_7ceba_level0_row14\" class=\"row_heading level0 row14\" >14</th>\n",
       "      <td id=\"T_7ceba_row14_col0\" class=\"data row14 col0\" >Fold Number</td>\n",
       "      <td id=\"T_7ceba_row14_col1\" class=\"data row14 col1\" >10</td>\n",
       "    </tr>\n",
       "    <tr>\n",
       "      <th id=\"T_7ceba_level0_row15\" class=\"row_heading level0 row15\" >15</th>\n",
       "      <td id=\"T_7ceba_row15_col0\" class=\"data row15 col0\" >CPU Jobs</td>\n",
       "      <td id=\"T_7ceba_row15_col1\" class=\"data row15 col1\" >-1</td>\n",
       "    </tr>\n",
       "    <tr>\n",
       "      <th id=\"T_7ceba_level0_row16\" class=\"row_heading level0 row16\" >16</th>\n",
       "      <td id=\"T_7ceba_row16_col0\" class=\"data row16 col0\" >Use GPU</td>\n",
       "      <td id=\"T_7ceba_row16_col1\" class=\"data row16 col1\" >False</td>\n",
       "    </tr>\n",
       "    <tr>\n",
       "      <th id=\"T_7ceba_level0_row17\" class=\"row_heading level0 row17\" >17</th>\n",
       "      <td id=\"T_7ceba_row17_col0\" class=\"data row17 col0\" >Log Experiment</td>\n",
       "      <td id=\"T_7ceba_row17_col1\" class=\"data row17 col1\" >False</td>\n",
       "    </tr>\n",
       "    <tr>\n",
       "      <th id=\"T_7ceba_level0_row18\" class=\"row_heading level0 row18\" >18</th>\n",
       "      <td id=\"T_7ceba_row18_col0\" class=\"data row18 col0\" >Experiment Name</td>\n",
       "      <td id=\"T_7ceba_row18_col1\" class=\"data row18 col1\" >clf-default-name</td>\n",
       "    </tr>\n",
       "    <tr>\n",
       "      <th id=\"T_7ceba_level0_row19\" class=\"row_heading level0 row19\" >19</th>\n",
       "      <td id=\"T_7ceba_row19_col0\" class=\"data row19 col0\" >USI</td>\n",
       "      <td id=\"T_7ceba_row19_col1\" class=\"data row19 col1\" >facf</td>\n",
       "    </tr>\n",
       "  </tbody>\n",
       "</table>\n"
      ],
      "text/plain": [
       "<pandas.io.formats.style.Styler at 0x7f98dc06eb90>"
      ]
     },
     "metadata": {},
     "output_type": "display_data"
    }
   ],
   "source": [
    "clf_setup = setup(data=fraction_train_data, target='label', session_id=1234, use_gpu=False, fix_imbalance=False, test_data=df_test, index=False)"
   ]
  },
  {
   "cell_type": "code",
   "execution_count": 6,
   "metadata": {},
   "outputs": [],
   "source": [
    "df_train_preprocessed = get_config('X_train_transformed')  # Get the transformed features (X)\n",
    "df_train_preprocessed['label'] = get_config('y_train_transformed')  # Add the label column back\n",
    "df_test_preprocessed = get_config('X_test_transformed')  # Get the transformed features (X)\n",
    "df_test_preprocessed['label'] = get_config('y_test_transformed')  # Add the label column back\n",
    "\n",
    "df_train_preprocessed.to_csv('preprocessed_train_dataset.csv', index=False)\n",
    "df_test_preprocessed.to_csv('preprocessed_test_dataset.csv', index=False)"
   ]
  },
  {
   "cell_type": "code",
   "execution_count": 8,
   "metadata": {},
   "outputs": [],
   "source": [
    "X_train = df_train_preprocessed.drop(columns=['label']).astype(np.float32)\n",
    "X_test = df_test_preprocessed.drop(columns=['label']).astype(np.float32)\n",
    "\n",
    "y_train = np.asarray(df_train_preprocessed['label'].astype('category').cat.codes, np.float32)\n",
    "y_test = np.asarray(df_test_preprocessed['label'].astype('category').cat.codes, np.float32)"
   ]
  },
  {
   "cell_type": "code",
   "execution_count": 9,
   "metadata": {},
   "outputs": [],
   "source": [
    "class_weights = compute_class_weight('balanced', classes=np.unique(y_train), y=y_train)\n",
    "np.save('class_weights.npy', class_weights)"
   ]
  }
 ],
 "metadata": {
  "kernelspec": {
   "display_name": "env",
   "language": "python",
   "name": "python3"
  },
  "language_info": {
   "codemirror_mode": {
    "name": "ipython",
    "version": 3
   },
   "file_extension": ".py",
   "mimetype": "text/x-python",
   "name": "python",
   "nbconvert_exporter": "python",
   "pygments_lexer": "ipython3",
   "version": "3.11.9"
  }
 },
 "nbformat": 4,
 "nbformat_minor": 2
}
