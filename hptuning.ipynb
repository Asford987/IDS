{
 "cells": [
  {
   "cell_type": "code",
   "execution_count": 1,
   "metadata": {},
   "outputs": [],
   "source": [
    "from imblearn.over_sampling import SMOTE, ADASYN, BorderlineSMOTE\n",
    "from imblearn.under_sampling import RandomUnderSampler\n",
    "from imblearn.combine import SMOTETomek\n",
    "from imblearn.pipeline import Pipeline\n",
    "from sklearn.neural_network import MLPClassifier\n",
    "from sklearn.metrics import make_scorer, fbeta_score, precision_score, recall_score\n",
    "from sklearn.model_selection import RandomizedSearchCV\n",
    "import pandas as pd\n",
    "import numpy as np"
   ]
  },
  {
   "cell_type": "code",
   "execution_count": 2,
   "metadata": {},
   "outputs": [],
   "source": [
    "X_train = pd.read_csv('artifacts/clean_data' + '/X_train.csv').astype(np.float32)\n",
    "X_val = pd.read_csv('artifacts/clean_data' + '/X_test.csv').astype(np.float32)\n",
    "y_train = np.asarray(np.load('artifacts/clean_data' + '/y_train.npy'), np.int64)\n",
    "y_val = np.asarray(np.load('artifacts/clean_data' + '/y_test.npy'), np.int64)"
   ]
  },
  {
   "cell_type": "code",
   "execution_count": 3,
   "metadata": {},
   "outputs": [
    {
     "name": "stdout",
     "output_type": "stream",
     "text": [
      "Memory usage X_train: 79.53 MB\n"
     ]
    }
   ],
   "source": [
    "print(f'Memory usage X_train: {X_train.memory_usage().sum() / 1024 ** 2:.2f} MB')"
   ]
  },
  {
   "cell_type": "code",
   "execution_count": 4,
   "metadata": {},
   "outputs": [],
   "source": [
    "def f2_scorer(y_true, y_pred):\n",
    "    return fbeta_score(y_true, y_pred, beta=2, average='macro')"
   ]
  },
  {
   "cell_type": "code",
   "execution_count": 5,
   "metadata": {},
   "outputs": [],
   "source": [
    "scoring = {\n",
    "    'f2_macro': make_scorer(f2_scorer),\n",
    "    'precision_macro': make_scorer(precision_score, average='macro'),\n",
    "    'recall_macro': make_scorer(recall_score, average='macro')\n",
    "}"
   ]
  },
  {
   "cell_type": "code",
   "execution_count": 6,
   "metadata": {},
   "outputs": [],
   "source": [
    "param_distributions = {\n",
    "    'classifier__hidden_layer_sizes': [(64,), (64, 32), (128, 64, 32)],  # Number of layers and units\n",
    "    'classifier__learning_rate_init': [1e-4, 1e-3, 1e-2, 1e-1],  # Initial learning rate\n",
    "    'classifier__activation': ['relu', 'tanh'],  # Activation function\n",
    "    'classifier__solver': ['adam', 'sgd'],  # Optimizers\n",
    "    'classifier__warm_start': [False, True], # warm start\n",
    "}"
   ]
  },
  {
   "cell_type": "code",
   "execution_count": null,
   "metadata": {},
   "outputs": [],
   "source": [
    "# Apply sampling separately\n",
    "smote_tomek = SMOTETomek()\n",
    "X_resampled, y_resampled = smote_tomek.fit_resample(X_train, y_train)\n"
   ]
  },
  {
   "cell_type": "code",
   "execution_count": 7,
   "metadata": {},
   "outputs": [],
   "source": [
    "mlp = MLPClassifier(max_iter=500, learning_rate='adaptive', alpha=1e-2, batch_size=1024)\n",
    "pipeline = Pipeline([\n",
    "    ('classifier', mlp)\n",
    "])\n"
   ]
  },
  {
   "cell_type": "code",
   "execution_count": 8,
   "metadata": {},
   "outputs": [],
   "source": [
    "random_search = RandomizedSearchCV(\n",
    "    pipeline,\n",
    "    param_distributions=param_distributions,\n",
    "    n_iter=50,\n",
    "    scoring=scoring,\n",
    "    refit='f2_macro',\n",
    "    n_jobs=-5,\n",
    "    cv=3,\n",
    "    verbose=2\n",
    ")\n",
    "\n",
    "# Fit the model using resampled data\n",
    "random_search.fit(X_resampled, y_resampled)\n"
   ]
  },
  {
   "cell_type": "code",
   "execution_count": null,
   "metadata": {},
   "outputs": [],
   "source": [
    "best_model = random_search.best_estimator_\n",
    "y_pred = best_model.predict(X_val)\n",
    "f2_score_macro = fbeta_score(y_val, y_pred, beta=2, average='macro')\n",
    "prec = precision_score(y_val, y_pred, average='macro')\n",
    "recall = recall_score(y_val, y_pred, average='macro')\n",
    "print(\"Best Parameters Found:\", random_search.best_params_)\n",
    "print(f\"Best F2 Score (Macro) on Validation Set: {f2_score_macro}\")\n",
    "print(f\"Precision on Validation Set: {prec}\")\n",
    "print(f\"Recall on Validation Set: {recall}\")"
   ]
  },
  {
   "cell_type": "code",
   "execution_count": null,
   "metadata": {},
   "outputs": [],
   "source": [
    "f2_scores_per_class = fbeta_score(y_val, y_pred, beta=2, average=None)\n",
    "prec_per_class = precision_score(y_val, y_pred, average=None)\n",
    "recall_per_class = recall_score(y_val, y_pred, average=None)\n",
    "\n",
    "for i, (f2, prec, rec) in enumerate(zip(f2_scores_per_class, prec_per_class, recall_per_class)):\n",
    "    print(f\"Class {i}:\")\n",
    "    print(f\"  F2 Score: {f2}\")\n",
    "    print(f\"  Precision: {prec}\")\n",
    "    print(f\"  Recall: {rec}\")"
   ]
  }
 ],
 "metadata": {
  "kernelspec": {
   "display_name": "env",
   "language": "python",
   "name": "python3"
  },
  "language_info": {
   "codemirror_mode": {
    "name": "ipython",
    "version": 3
   },
   "file_extension": ".py",
   "mimetype": "text/x-python",
   "name": "python",
   "nbconvert_exporter": "python",
   "pygments_lexer": "ipython3",
   "version": "3.11.9"
  }
 },
 "nbformat": 4,
 "nbformat_minor": 2
}
