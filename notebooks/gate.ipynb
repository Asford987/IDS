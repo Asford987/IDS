{
 "cells": [
  {
   "cell_type": "code",
   "execution_count": 3,
   "metadata": {},
   "outputs": [],
   "source": [
    "import sys\n",
    "sys.path.append('..')"
   ]
  },
  {
   "cell_type": "code",
   "execution_count": 4,
   "metadata": {},
   "outputs": [
    {
     "name": "stderr",
     "output_type": "stream",
     "text": [
      "2024-11-13 21:27:37.561286: I tensorflow/core/util/port.cc:153] oneDNN custom operations are on. You may see slightly different numerical results due to floating-point round-off errors from different computation orders. To turn them off, set the environment variable `TF_ENABLE_ONEDNN_OPTS=0`.\n",
      "2024-11-13 21:27:37.641135: E external/local_xla/xla/stream_executor/cuda/cuda_fft.cc:477] Unable to register cuFFT factory: Attempting to register factory for plugin cuFFT when one has already been registered\n",
      "WARNING: All log messages before absl::InitializeLog() is called are written to STDERR\n",
      "E0000 00:00:1731544057.676025  146939 cuda_dnn.cc:8310] Unable to register cuDNN factory: Attempting to register factory for plugin cuDNN when one has already been registered\n",
      "E0000 00:00:1731544057.686559  146939 cuda_blas.cc:1418] Unable to register cuBLAS factory: Attempting to register factory for plugin cuBLAS when one has already been registered\n",
      "2024-11-13 21:27:37.765033: I tensorflow/core/platform/cpu_feature_guard.cc:210] This TensorFlow binary is optimized to use available CPU instructions in performance-critical operations.\n",
      "To enable the following instructions: AVX2 AVX512F AVX512_VNNI FMA, in other operations, rebuild TensorFlow with the appropriate compiler flags.\n"
     ]
    }
   ],
   "source": [
    "from models.gate.gate import *\n",
    "from models.gate.processor import *\n",
    "from models.gate.trainer import *"
   ]
  },
  {
   "cell_type": "code",
   "execution_count": null,
   "metadata": {},
   "outputs": [],
   "source": [
    "data_path = '/kaggle/input/cic-ids-2018-preprocessing/all_data.parquet'\n",
    "\n",
    "# Initialize DataProcessor\n",
    "processor = DataProcessor(data_path)\n",
    "processor.load_and_preprocess_data()\n",
    "processor.encode_labels()\n",
    "X_train, X_test, y_train, y_test = processor.split_data()\n",
    "class_weight_dict = processor.compute_class_weights(y_train)\n",
    "\n",
    "# Create a MirroredStrategy for using multiple GPUs\n",
    "strategy = tf.distribute.MirroredStrategy()\n",
    "\n",
    "# Build and train models\n",
    "model_builder = ModelBuilder(\n",
    "    input_shape=X_train.shape[1],\n",
    "    num_classes=processor.num_classes,\n",
    "    strategy=strategy\n",
    ")\n",
    "\n",
    "model_build_methods = {\n",
    "    'mlp_residual': model_builder.build_mlp_residual_model,\n",
    "    'cnn': model_builder.build_cnn_model,\n",
    "    'lstm': model_builder.build_lstm_model,\n",
    "    'attention': model_builder.build_attention_model,\n",
    "}\n",
    "\n",
    "for model_name, build_method in model_build_methods.items():\n",
    "    print(f'\\nTraining {model_name} model')\n",
    "    if model_name == 'attention':\n",
    "        model = build_method(num_heads=4)  # Adjust num_heads as needed\n",
    "    else:\n",
    "        model = build_method()\n",
    "    trainer = ModelTrainer(model=model)\n",
    "    trainer.compile_model(strategy, learning_rate=1e-3)\n",
    "    trainer.train_model_per_epoch(X_train, y_train, X_test, y_test, class_weight_dict, epochs=100, batch_size=24576)\n",
    "    trainer.evaluate_model(X_test, y_test)\n",
    "    trainer.save_history(model_name, '../out/gate')\n",
    "    trainer.save_classification_report(model_name, '../out/gate')\n",
    "    trainer.save_model(model_name, '../out/gate')\n",
    "    trainer.clean_up()\n",
    "\n",
    "# Clean up data to free memory\n",
    "del X_train, X_test, y_train, y_test\n",
    "gc.collect()"
   ]
  }
 ],
 "metadata": {
  "kernelspec": {
   "display_name": "env",
   "language": "python",
   "name": "python3"
  },
  "language_info": {
   "codemirror_mode": {
    "name": "ipython",
    "version": 3
   },
   "file_extension": ".py",
   "mimetype": "text/x-python",
   "name": "python",
   "nbconvert_exporter": "python",
   "pygments_lexer": "ipython3",
   "version": "3.12.6"
  }
 },
 "nbformat": 4,
 "nbformat_minor": 2
}
