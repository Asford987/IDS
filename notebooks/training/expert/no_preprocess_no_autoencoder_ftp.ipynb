{
 "cells": [
  {
   "cell_type": "code",
   "execution_count": 1,
   "metadata": {},
   "outputs": [],
   "source": [
    "import warnings\n",
    "import sys\n",
    "sys.path.append('../../../')\n",
    "warnings.filterwarnings(\"ignore\")\n",
    "import os\n",
    "os.environ['TF_CPP_MIN_LOG_LEVEL'] = '2'\n",
    "\n",
    "from models import *\n",
    "from pytorch_lightning.loggers import TensorBoardLogger, CSVLogger\n",
    "from pytorch_lightning.callbacks import LearningRateMonitor\n",
    "import pandas as pd\n",
    "from sklearn.model_selection import train_test_split"
   ]
  },
  {
   "cell_type": "code",
   "execution_count": 2,
   "metadata": {},
   "outputs": [
    {
     "data": {
      "text/html": [
       "<div>\n",
       "<style scoped>\n",
       "    .dataframe tbody tr th:only-of-type {\n",
       "        vertical-align: middle;\n",
       "    }\n",
       "\n",
       "    .dataframe tbody tr th {\n",
       "        vertical-align: top;\n",
       "    }\n",
       "\n",
       "    .dataframe thead th {\n",
       "        text-align: right;\n",
       "    }\n",
       "</style>\n",
       "<table border=\"1\" class=\"dataframe\">\n",
       "  <thead>\n",
       "    <tr style=\"text-align: right;\">\n",
       "      <th></th>\n",
       "      <th>Dst Port</th>\n",
       "      <th>Protocol</th>\n",
       "      <th>Timestamp</th>\n",
       "      <th>Flow Duration</th>\n",
       "      <th>Tot Fwd Pkts</th>\n",
       "      <th>Tot Bwd Pkts</th>\n",
       "      <th>TotLen Fwd Pkts</th>\n",
       "      <th>TotLen Bwd Pkts</th>\n",
       "      <th>Fwd Pkt Len Max</th>\n",
       "      <th>Fwd Pkt Len Min</th>\n",
       "      <th>...</th>\n",
       "      <th>Fwd Seg Size Min</th>\n",
       "      <th>Active Mean</th>\n",
       "      <th>Active Std</th>\n",
       "      <th>Active Max</th>\n",
       "      <th>Active Min</th>\n",
       "      <th>Idle Mean</th>\n",
       "      <th>Idle Std</th>\n",
       "      <th>Idle Max</th>\n",
       "      <th>Idle Min</th>\n",
       "      <th>Label</th>\n",
       "    </tr>\n",
       "  </thead>\n",
       "  <tbody>\n",
       "    <tr>\n",
       "      <th>0</th>\n",
       "      <td>0</td>\n",
       "      <td>0</td>\n",
       "      <td>1518597061</td>\n",
       "      <td>112641719</td>\n",
       "      <td>3</td>\n",
       "      <td>0</td>\n",
       "      <td>0</td>\n",
       "      <td>0</td>\n",
       "      <td>0</td>\n",
       "      <td>0</td>\n",
       "      <td>...</td>\n",
       "      <td>0</td>\n",
       "      <td>0.0</td>\n",
       "      <td>0.0</td>\n",
       "      <td>0</td>\n",
       "      <td>0</td>\n",
       "      <td>56320860.0</td>\n",
       "      <td>139.300034</td>\n",
       "      <td>56320958</td>\n",
       "      <td>56320761</td>\n",
       "      <td>Benign</td>\n",
       "    </tr>\n",
       "    <tr>\n",
       "      <th>1</th>\n",
       "      <td>0</td>\n",
       "      <td>0</td>\n",
       "      <td>1518597230</td>\n",
       "      <td>112641466</td>\n",
       "      <td>3</td>\n",
       "      <td>0</td>\n",
       "      <td>0</td>\n",
       "      <td>0</td>\n",
       "      <td>0</td>\n",
       "      <td>0</td>\n",
       "      <td>...</td>\n",
       "      <td>0</td>\n",
       "      <td>0.0</td>\n",
       "      <td>0.0</td>\n",
       "      <td>0</td>\n",
       "      <td>0</td>\n",
       "      <td>56320732.0</td>\n",
       "      <td>114.551300</td>\n",
       "      <td>56320814</td>\n",
       "      <td>56320652</td>\n",
       "      <td>Benign</td>\n",
       "    </tr>\n",
       "    <tr>\n",
       "      <th>2</th>\n",
       "      <td>0</td>\n",
       "      <td>0</td>\n",
       "      <td>1518597399</td>\n",
       "      <td>112638623</td>\n",
       "      <td>3</td>\n",
       "      <td>0</td>\n",
       "      <td>0</td>\n",
       "      <td>0</td>\n",
       "      <td>0</td>\n",
       "      <td>0</td>\n",
       "      <td>...</td>\n",
       "      <td>0</td>\n",
       "      <td>0.0</td>\n",
       "      <td>0.0</td>\n",
       "      <td>0</td>\n",
       "      <td>0</td>\n",
       "      <td>56319312.0</td>\n",
       "      <td>301.934601</td>\n",
       "      <td>56319525</td>\n",
       "      <td>56319098</td>\n",
       "      <td>Benign</td>\n",
       "    </tr>\n",
       "    <tr>\n",
       "      <th>3</th>\n",
       "      <td>22</td>\n",
       "      <td>6</td>\n",
       "      <td>1518597613</td>\n",
       "      <td>6453966</td>\n",
       "      <td>15</td>\n",
       "      <td>10</td>\n",
       "      <td>1239</td>\n",
       "      <td>2273</td>\n",
       "      <td>744</td>\n",
       "      <td>0</td>\n",
       "      <td>...</td>\n",
       "      <td>32</td>\n",
       "      <td>0.0</td>\n",
       "      <td>0.0</td>\n",
       "      <td>0</td>\n",
       "      <td>0</td>\n",
       "      <td>0.0</td>\n",
       "      <td>0.000000</td>\n",
       "      <td>0</td>\n",
       "      <td>0</td>\n",
       "      <td>Benign</td>\n",
       "    </tr>\n",
       "    <tr>\n",
       "      <th>4</th>\n",
       "      <td>22</td>\n",
       "      <td>6</td>\n",
       "      <td>1518597623</td>\n",
       "      <td>8804066</td>\n",
       "      <td>14</td>\n",
       "      <td>11</td>\n",
       "      <td>1143</td>\n",
       "      <td>2209</td>\n",
       "      <td>744</td>\n",
       "      <td>0</td>\n",
       "      <td>...</td>\n",
       "      <td>32</td>\n",
       "      <td>0.0</td>\n",
       "      <td>0.0</td>\n",
       "      <td>0</td>\n",
       "      <td>0</td>\n",
       "      <td>0.0</td>\n",
       "      <td>0.000000</td>\n",
       "      <td>0</td>\n",
       "      <td>0</td>\n",
       "      <td>Benign</td>\n",
       "    </tr>\n",
       "  </tbody>\n",
       "</table>\n",
       "<p>5 rows × 80 columns</p>\n",
       "</div>"
      ],
      "text/plain": [
       "   Dst Port  Protocol   Timestamp  Flow Duration  Tot Fwd Pkts  Tot Bwd Pkts  \\\n",
       "0         0         0  1518597061      112641719             3             0   \n",
       "1         0         0  1518597230      112641466             3             0   \n",
       "2         0         0  1518597399      112638623             3             0   \n",
       "3        22         6  1518597613        6453966            15            10   \n",
       "4        22         6  1518597623        8804066            14            11   \n",
       "\n",
       "   TotLen Fwd Pkts  TotLen Bwd Pkts  Fwd Pkt Len Max  Fwd Pkt Len Min  ...  \\\n",
       "0                0                0                0                0  ...   \n",
       "1                0                0                0                0  ...   \n",
       "2                0                0                0                0  ...   \n",
       "3             1239             2273              744                0  ...   \n",
       "4             1143             2209              744                0  ...   \n",
       "\n",
       "   Fwd Seg Size Min  Active Mean  Active Std  Active Max  Active Min  \\\n",
       "0                 0          0.0         0.0           0           0   \n",
       "1                 0          0.0         0.0           0           0   \n",
       "2                 0          0.0         0.0           0           0   \n",
       "3                32          0.0         0.0           0           0   \n",
       "4                32          0.0         0.0           0           0   \n",
       "\n",
       "    Idle Mean    Idle Std  Idle Max  Idle Min   Label  \n",
       "0  56320860.0  139.300034  56320958  56320761  Benign  \n",
       "1  56320732.0  114.551300  56320814  56320652  Benign  \n",
       "2  56319312.0  301.934601  56319525  56319098  Benign  \n",
       "3         0.0    0.000000         0         0  Benign  \n",
       "4         0.0    0.000000         0         0  Benign  \n",
       "\n",
       "[5 rows x 80 columns]"
      ]
     },
     "execution_count": 2,
     "metadata": {},
     "output_type": "execute_result"
    }
   ],
   "source": [
    "data_path = '../../../data/CIC_2018/no_preprocess/df_equal_FTP-BruteForce.parquet'\n",
    "df = pd.read_parquet(data_path)\n",
    "df.head()"
   ]
  },
  {
   "cell_type": "code",
   "execution_count": 3,
   "metadata": {},
   "outputs": [
    {
     "data": {
      "text/plain": [
       "0"
      ]
     },
     "execution_count": 3,
     "metadata": {},
     "output_type": "execute_result"
    }
   ],
   "source": [
    "df['Label'].isna().sum()"
   ]
  },
  {
   "cell_type": "code",
   "execution_count": 4,
   "metadata": {},
   "outputs": [
    {
     "name": "stdout",
     "output_type": "stream",
     "text": [
      "Number of infinite values in the dataframe: 5371\n",
      "Number of infinite values in the dataframe: 0\n"
     ]
    }
   ],
   "source": [
    "import numpy as np\n",
    "\n",
    "infinite_values = df.isin([np.inf, -np.inf]).sum().sum()\n",
    "print(f\"Number of infinite values in the dataframe: {infinite_values}\")\n",
    "\n",
    "df.replace([np.inf, -np.inf], np.nan, inplace=True)\n",
    "df.dropna(inplace=True)\n",
    "\n",
    "infinite_values = df.isin([np.inf, -np.inf]).sum().sum()\n",
    "print(f\"Number of infinite values in the dataframe: {infinite_values}\")\n"
   ]
  },
  {
   "cell_type": "code",
   "execution_count": 5,
   "metadata": {},
   "outputs": [
    {
     "data": {
      "text/plain": [
       "Label\n",
       "Benign            663808\n",
       "FTP-BruteForce    193354\n",
       "SSH-Bruteforce    187589\n",
       "Name: count, dtype: int64"
      ]
     },
     "execution_count": 5,
     "metadata": {},
     "output_type": "execute_result"
    }
   ],
   "source": [
    "df['Label'].value_counts()"
   ]
  },
  {
   "cell_type": "code",
   "execution_count": 6,
   "metadata": {},
   "outputs": [],
   "source": [
    "df = df.drop(index=df.loc[df['Label'] == 'Label'].index)"
   ]
  },
  {
   "cell_type": "code",
   "execution_count": 7,
   "metadata": {},
   "outputs": [],
   "source": [
    "df = df.dropna()"
   ]
  },
  {
   "cell_type": "code",
   "execution_count": 8,
   "metadata": {},
   "outputs": [],
   "source": [
    "X = df.drop('Label', axis=1)\n",
    "y = df['Label']\n",
    "y = y.map({'Benign': 0, 'FTP-BruteForce': 1, 'SSH-Bruteforce': 2})\n",
    "X_train, X_test, y_train, y_test = train_test_split(X, y,test_size=0.2, stratify=y)"
   ]
  },
  {
   "cell_type": "code",
   "execution_count": 9,
   "metadata": {},
   "outputs": [],
   "source": [
    "df_train = pd.concat([X_train, y_train], axis=1)\n",
    "df_test = pd.concat([X_test, y_test], axis=1)"
   ]
  },
  {
   "cell_type": "code",
   "execution_count": 10,
   "metadata": {},
   "outputs": [
    {
     "data": {
      "text/plain": [
       "0"
      ]
     },
     "execution_count": 10,
     "metadata": {},
     "output_type": "execute_result"
    }
   ],
   "source": [
    "df_train.isna().sum().sum()"
   ]
  },
  {
   "cell_type": "code",
   "execution_count": 11,
   "metadata": {},
   "outputs": [
    {
     "data": {
      "text/plain": [
       "0"
      ]
     },
     "execution_count": 11,
     "metadata": {},
     "output_type": "execute_result"
    }
   ],
   "source": [
    "df_test.isna().sum().sum()"
   ]
  },
  {
   "cell_type": "code",
   "execution_count": 12,
   "metadata": {},
   "outputs": [
    {
     "data": {
      "text/plain": [
       "Label\n",
       "0    531046\n",
       "1    154683\n",
       "2    150071\n",
       "Name: count, dtype: int64"
      ]
     },
     "execution_count": 12,
     "metadata": {},
     "output_type": "execute_result"
    }
   ],
   "source": [
    "df_train['Label'].value_counts()"
   ]
  },
  {
   "cell_type": "code",
   "execution_count": 13,
   "metadata": {},
   "outputs": [
    {
     "name": "stdout",
     "output_type": "stream",
     "text": [
      "<class 'pandas.core.frame.DataFrame'>\n",
      "Index: 835800 entries, 769789 to 38938\n",
      "Data columns (total 80 columns):\n",
      " #   Column             Non-Null Count   Dtype   \n",
      "---  ------             --------------   -----   \n",
      " 0   Dst Port           835800 non-null  int32   \n",
      " 1   Protocol           835800 non-null  int8    \n",
      " 2   Timestamp          835800 non-null  int32   \n",
      " 3   Flow Duration      835800 non-null  int64   \n",
      " 4   Tot Fwd Pkts       835800 non-null  int16   \n",
      " 5   Tot Bwd Pkts       835800 non-null  int16   \n",
      " 6   TotLen Fwd Pkts    835800 non-null  int32   \n",
      " 7   TotLen Bwd Pkts    835800 non-null  int32   \n",
      " 8   Fwd Pkt Len Max    835800 non-null  int32   \n",
      " 9   Fwd Pkt Len Min    835800 non-null  int16   \n",
      " 10  Fwd Pkt Len Mean   835800 non-null  float16 \n",
      " 11  Fwd Pkt Len Std    835800 non-null  float16 \n",
      " 12  Bwd Pkt Len Max    835800 non-null  int16   \n",
      " 13  Bwd Pkt Len Min    835800 non-null  int16   \n",
      " 14  Bwd Pkt Len Mean   835800 non-null  float16 \n",
      " 15  Bwd Pkt Len Std    835800 non-null  float16 \n",
      " 16  Flow Byts/s        835800 non-null  float64 \n",
      " 17  Flow Pkts/s        835800 non-null  float64 \n",
      " 18  Flow IAT Mean      835800 non-null  float32 \n",
      " 19  Flow IAT Std       835800 non-null  float32 \n",
      " 20  Flow IAT Max       835800 non-null  int64   \n",
      " 21  Flow IAT Min       835800 non-null  int64   \n",
      " 22  Fwd IAT Tot        835800 non-null  int64   \n",
      " 23  Fwd IAT Mean       835800 non-null  float32 \n",
      " 24  Fwd IAT Std        835800 non-null  float32 \n",
      " 25  Fwd IAT Max        835800 non-null  int64   \n",
      " 26  Fwd IAT Min        835800 non-null  int64   \n",
      " 27  Bwd IAT Tot        835800 non-null  int32   \n",
      " 28  Bwd IAT Mean       835800 non-null  float32 \n",
      " 29  Bwd IAT Std        835800 non-null  float32 \n",
      " 30  Bwd IAT Max        835800 non-null  int32   \n",
      " 31  Bwd IAT Min        835800 non-null  int32   \n",
      " 32  Fwd PSH Flags      835800 non-null  int8    \n",
      " 33  Bwd PSH Flags      835800 non-null  int8    \n",
      " 34  Fwd URG Flags      835800 non-null  int8    \n",
      " 35  Bwd URG Flags      835800 non-null  int8    \n",
      " 36  Fwd Header Len     835800 non-null  int32   \n",
      " 37  Bwd Header Len     835800 non-null  int32   \n",
      " 38  Fwd Pkts/s         835800 non-null  float32 \n",
      " 39  Bwd Pkts/s         835800 non-null  float32 \n",
      " 40  Pkt Len Min        835800 non-null  int16   \n",
      " 41  Pkt Len Max        835800 non-null  int32   \n",
      " 42  Pkt Len Mean       835800 non-null  float16 \n",
      " 43  Pkt Len Std        835800 non-null  float16 \n",
      " 44  Pkt Len Var        835800 non-null  float32 \n",
      " 45  FIN Flag Cnt       835800 non-null  int8    \n",
      " 46  SYN Flag Cnt       835800 non-null  int8    \n",
      " 47  RST Flag Cnt       835800 non-null  int8    \n",
      " 48  PSH Flag Cnt       835800 non-null  int8    \n",
      " 49  ACK Flag Cnt       835800 non-null  int8    \n",
      " 50  URG Flag Cnt       835800 non-null  int8    \n",
      " 51  CWE Flag Count     835800 non-null  int8    \n",
      " 52  ECE Flag Cnt       835800 non-null  int8    \n",
      " 53  Down/Up Ratio      835800 non-null  int8    \n",
      " 54  Pkt Size Avg       835800 non-null  float16 \n",
      " 55  Fwd Seg Size Avg   835800 non-null  float16 \n",
      " 56  Bwd Seg Size Avg   835800 non-null  float16 \n",
      " 57  Fwd Byts/b Avg     835800 non-null  int8    \n",
      " 58  Fwd Pkts/b Avg     835800 non-null  int8    \n",
      " 59  Fwd Blk Rate Avg   835800 non-null  int8    \n",
      " 60  Bwd Byts/b Avg     835800 non-null  int8    \n",
      " 61  Bwd Pkts/b Avg     835800 non-null  int8    \n",
      " 62  Bwd Blk Rate Avg   835800 non-null  int8    \n",
      " 63  Subflow Fwd Pkts   835800 non-null  int16   \n",
      " 64  Subflow Fwd Byts   835800 non-null  int32   \n",
      " 65  Subflow Bwd Pkts   835800 non-null  int16   \n",
      " 66  Subflow Bwd Byts   835800 non-null  int32   \n",
      " 67  Init Fwd Win Byts  835800 non-null  int32   \n",
      " 68  Init Bwd Win Byts  835800 non-null  int32   \n",
      " 69  Fwd Act Data Pkts  835800 non-null  int16   \n",
      " 70  Fwd Seg Size Min   835800 non-null  int8    \n",
      " 71  Active Mean        835800 non-null  float32 \n",
      " 72  Active Std         835800 non-null  float32 \n",
      " 73  Active Max         835800 non-null  int32   \n",
      " 74  Active Min         835800 non-null  int32   \n",
      " 75  Idle Mean          835800 non-null  float32 \n",
      " 76  Idle Std           835800 non-null  float32 \n",
      " 77  Idle Max           835800 non-null  int64   \n",
      " 78  Idle Min           835800 non-null  int64   \n",
      " 79  Label              835800 non-null  category\n",
      "dtypes: category(1), float16(9), float32(13), float64(2), int16(9), int32(17), int64(8), int8(21)\n",
      "memory usage: 212.0 MB\n",
      "<class 'pandas.core.frame.DataFrame'>\n",
      "Index: 208951 entries, 281338 to 786157\n",
      "Data columns (total 80 columns):\n",
      " #   Column             Non-Null Count   Dtype   \n",
      "---  ------             --------------   -----   \n",
      " 0   Dst Port           208951 non-null  int32   \n",
      " 1   Protocol           208951 non-null  int8    \n",
      " 2   Timestamp          208951 non-null  int32   \n",
      " 3   Flow Duration      208951 non-null  int64   \n",
      " 4   Tot Fwd Pkts       208951 non-null  int16   \n",
      " 5   Tot Bwd Pkts       208951 non-null  int16   \n",
      " 6   TotLen Fwd Pkts    208951 non-null  int32   \n",
      " 7   TotLen Bwd Pkts    208951 non-null  int32   \n",
      " 8   Fwd Pkt Len Max    208951 non-null  int32   \n",
      " 9   Fwd Pkt Len Min    208951 non-null  int16   \n",
      " 10  Fwd Pkt Len Mean   208951 non-null  float16 \n",
      " 11  Fwd Pkt Len Std    208951 non-null  float16 \n",
      " 12  Bwd Pkt Len Max    208951 non-null  int16   \n",
      " 13  Bwd Pkt Len Min    208951 non-null  int16   \n",
      " 14  Bwd Pkt Len Mean   208951 non-null  float16 \n",
      " 15  Bwd Pkt Len Std    208951 non-null  float16 \n",
      " 16  Flow Byts/s        208951 non-null  float64 \n",
      " 17  Flow Pkts/s        208951 non-null  float64 \n",
      " 18  Flow IAT Mean      208951 non-null  float32 \n",
      " 19  Flow IAT Std       208951 non-null  float32 \n",
      " 20  Flow IAT Max       208951 non-null  int64   \n",
      " 21  Flow IAT Min       208951 non-null  int64   \n",
      " 22  Fwd IAT Tot        208951 non-null  int64   \n",
      " 23  Fwd IAT Mean       208951 non-null  float32 \n",
      " 24  Fwd IAT Std        208951 non-null  float32 \n",
      " 25  Fwd IAT Max        208951 non-null  int64   \n",
      " 26  Fwd IAT Min        208951 non-null  int64   \n",
      " 27  Bwd IAT Tot        208951 non-null  int32   \n",
      " 28  Bwd IAT Mean       208951 non-null  float32 \n",
      " 29  Bwd IAT Std        208951 non-null  float32 \n",
      " 30  Bwd IAT Max        208951 non-null  int32   \n",
      " 31  Bwd IAT Min        208951 non-null  int32   \n",
      " 32  Fwd PSH Flags      208951 non-null  int8    \n",
      " 33  Bwd PSH Flags      208951 non-null  int8    \n",
      " 34  Fwd URG Flags      208951 non-null  int8    \n",
      " 35  Bwd URG Flags      208951 non-null  int8    \n",
      " 36  Fwd Header Len     208951 non-null  int32   \n",
      " 37  Bwd Header Len     208951 non-null  int32   \n",
      " 38  Fwd Pkts/s         208951 non-null  float32 \n",
      " 39  Bwd Pkts/s         208951 non-null  float32 \n",
      " 40  Pkt Len Min        208951 non-null  int16   \n",
      " 41  Pkt Len Max        208951 non-null  int32   \n",
      " 42  Pkt Len Mean       208951 non-null  float16 \n",
      " 43  Pkt Len Std        208951 non-null  float16 \n",
      " 44  Pkt Len Var        208951 non-null  float32 \n",
      " 45  FIN Flag Cnt       208951 non-null  int8    \n",
      " 46  SYN Flag Cnt       208951 non-null  int8    \n",
      " 47  RST Flag Cnt       208951 non-null  int8    \n",
      " 48  PSH Flag Cnt       208951 non-null  int8    \n",
      " 49  ACK Flag Cnt       208951 non-null  int8    \n",
      " 50  URG Flag Cnt       208951 non-null  int8    \n",
      " 51  CWE Flag Count     208951 non-null  int8    \n",
      " 52  ECE Flag Cnt       208951 non-null  int8    \n",
      " 53  Down/Up Ratio      208951 non-null  int8    \n",
      " 54  Pkt Size Avg       208951 non-null  float16 \n",
      " 55  Fwd Seg Size Avg   208951 non-null  float16 \n",
      " 56  Bwd Seg Size Avg   208951 non-null  float16 \n",
      " 57  Fwd Byts/b Avg     208951 non-null  int8    \n",
      " 58  Fwd Pkts/b Avg     208951 non-null  int8    \n",
      " 59  Fwd Blk Rate Avg   208951 non-null  int8    \n",
      " 60  Bwd Byts/b Avg     208951 non-null  int8    \n",
      " 61  Bwd Pkts/b Avg     208951 non-null  int8    \n",
      " 62  Bwd Blk Rate Avg   208951 non-null  int8    \n",
      " 63  Subflow Fwd Pkts   208951 non-null  int16   \n",
      " 64  Subflow Fwd Byts   208951 non-null  int32   \n",
      " 65  Subflow Bwd Pkts   208951 non-null  int16   \n",
      " 66  Subflow Bwd Byts   208951 non-null  int32   \n",
      " 67  Init Fwd Win Byts  208951 non-null  int32   \n",
      " 68  Init Bwd Win Byts  208951 non-null  int32   \n",
      " 69  Fwd Act Data Pkts  208951 non-null  int16   \n",
      " 70  Fwd Seg Size Min   208951 non-null  int8    \n",
      " 71  Active Mean        208951 non-null  float32 \n",
      " 72  Active Std         208951 non-null  float32 \n",
      " 73  Active Max         208951 non-null  int32   \n",
      " 74  Active Min         208951 non-null  int32   \n",
      " 75  Idle Mean          208951 non-null  float32 \n",
      " 76  Idle Std           208951 non-null  float32 \n",
      " 77  Idle Max           208951 non-null  int64   \n",
      " 78  Idle Min           208951 non-null  int64   \n",
      " 79  Label              208951 non-null  category\n",
      "dtypes: category(1), float16(9), float32(13), float64(2), int16(9), int32(17), int64(8), int8(21)\n",
      "memory usage: 53.0 MB\n"
     ]
    }
   ],
   "source": [
    "df_train.info()\n",
    "df_test.info()"
   ]
  },
  {
   "cell_type": "code",
   "execution_count": 14,
   "metadata": {},
   "outputs": [
    {
     "data": {
      "text/plain": [
       "Label\n",
       "0    132762\n",
       "1     38671\n",
       "2     37518\n",
       "Name: count, dtype: int64"
      ]
     },
     "execution_count": 14,
     "metadata": {},
     "output_type": "execute_result"
    }
   ],
   "source": [
    "df_test['Label'].value_counts()"
   ]
  },
  {
   "cell_type": "code",
   "execution_count": 15,
   "metadata": {},
   "outputs": [],
   "source": [
    "datamodule = ExpertPretrainDataModule(df_train, df_test, binarize_on_label=1)"
   ]
  },
  {
   "cell_type": "code",
   "execution_count": 16,
   "metadata": {},
   "outputs": [
    {
     "name": "stdout",
     "output_type": "stream",
     "text": [
      "ExpertModel(\n",
      "  (model): Sequential(\n",
      "    (0): BatchNorm1d(79, eps=1e-05, momentum=0.1, affine=True, track_running_stats=True)\n",
      "    (1): Linear(in_features=79, out_features=256, bias=True)\n",
      "    (2): LeakyReLU(negative_slope=0.01)\n",
      "    (3): BatchNorm1d(256, eps=1e-05, momentum=0.1, affine=True, track_running_stats=True)\n",
      "    (4): Linear(in_features=256, out_features=128, bias=True)\n",
      "    (5): LeakyReLU(negative_slope=0.01)\n",
      "    (6): Linear(in_features=128, out_features=1, bias=True)\n",
      "  )\n",
      ")\n"
     ]
    }
   ],
   "source": [
    "expert_model = ExpertModel(79, [256, 128])\n",
    "print(expert_model)"
   ]
  },
  {
   "cell_type": "code",
   "execution_count": null,
   "metadata": {},
   "outputs": [
    {
     "name": "stderr",
     "output_type": "stream",
     "text": [
      "GPU available: True (cuda), used: True\n",
      "TPU available: False, using: 0 TPU cores\n",
      "HPU available: False, using: 0 HPUs\n",
      "You are using a CUDA device ('NVIDIA GeForce RTX 3060 Laptop GPU') that has Tensor Cores. To properly utilize them, you should set `torch.set_float32_matmul_precision('medium' | 'high')` which will trade-off precision for performance. For more details, read https://pytorch.org/docs/stable/generated/torch.set_float32_matmul_precision.html#torch.set_float32_matmul_precision\n",
      "2024-10-04 13:44:20.008919: E external/local_xla/xla/stream_executor/cuda/cuda_fft.cc:485] Unable to register cuFFT factory: Attempting to register factory for plugin cuFFT when one has already been registered\n",
      "2024-10-04 13:44:20.021073: E external/local_xla/xla/stream_executor/cuda/cuda_dnn.cc:8454] Unable to register cuDNN factory: Attempting to register factory for plugin cuDNN when one has already been registered\n",
      "2024-10-04 13:44:20.024772: E external/local_xla/xla/stream_executor/cuda/cuda_blas.cc:1452] Unable to register cuBLAS factory: Attempting to register factory for plugin cuBLAS when one has already been registered\n",
      "LOCAL_RANK: 0 - CUDA_VISIBLE_DEVICES: [0]\n",
      "\n",
      "  | Name  | Type       | Params | Mode \n",
      "---------------------------------------------\n",
      "0 | model | Sequential | 54.2 K | train\n",
      "---------------------------------------------\n",
      "54.2 K    Trainable params\n",
      "0         Non-trainable params\n",
      "54.2 K    Total params\n",
      "0.217     Total estimated model params size (MB)\n",
      "8         Modules in train mode\n",
      "0         Modules in eval mode\n"
     ]
    },
    {
     "data": {
      "application/vnd.jupyter.widget-view+json": {
       "model_id": "e598a1002a7f4ffa8586e4f1152e5c58",
       "version_major": 2,
       "version_minor": 0
      },
      "text/plain": [
       "Sanity Checking: |          | 0/? [00:00<?, ?it/s]"
      ]
     },
     "metadata": {},
     "output_type": "display_data"
    },
    {
     "data": {
      "application/vnd.jupyter.widget-view+json": {
       "model_id": "5b3b7dba3e30402c89755204e9b55c22",
       "version_major": 2,
       "version_minor": 0
      },
      "text/plain": [
       "Training: |          | 0/? [00:00<?, ?it/s]"
      ]
     },
     "metadata": {},
     "output_type": "display_data"
    },
    {
     "data": {
      "application/vnd.jupyter.widget-view+json": {
       "model_id": "711ec1bc0ec447418887f1ebfd58708f",
       "version_major": 2,
       "version_minor": 0
      },
      "text/plain": [
       "Validation: |          | 0/? [00:00<?, ?it/s]"
      ]
     },
     "metadata": {},
     "output_type": "display_data"
    },
    {
     "data": {
      "application/vnd.jupyter.widget-view+json": {
       "model_id": "8b39d4ed62e547e09929903966105eca",
       "version_major": 2,
       "version_minor": 0
      },
      "text/plain": [
       "Validation: |          | 0/? [00:00<?, ?it/s]"
      ]
     },
     "metadata": {},
     "output_type": "display_data"
    },
    {
     "data": {
      "application/vnd.jupyter.widget-view+json": {
       "model_id": "7d1c405e2043499eae21952f4b269c07",
       "version_major": 2,
       "version_minor": 0
      },
      "text/plain": [
       "Validation: |          | 0/? [00:00<?, ?it/s]"
      ]
     },
     "metadata": {},
     "output_type": "display_data"
    },
    {
     "data": {
      "application/vnd.jupyter.widget-view+json": {
       "model_id": "7ee5c991f0a64113a51ee9af6de922ef",
       "version_major": 2,
       "version_minor": 0
      },
      "text/plain": [
       "Validation: |          | 0/? [00:00<?, ?it/s]"
      ]
     },
     "metadata": {},
     "output_type": "display_data"
    },
    {
     "data": {
      "application/vnd.jupyter.widget-view+json": {
       "model_id": "2f8c903b31f94153ba74d1b971623d1d",
       "version_major": 2,
       "version_minor": 0
      },
      "text/plain": [
       "Validation: |          | 0/? [00:00<?, ?it/s]"
      ]
     },
     "metadata": {},
     "output_type": "display_data"
    },
    {
     "data": {
      "application/vnd.jupyter.widget-view+json": {
       "model_id": "41d5affc11114871b68fdf6e3a4c78d9",
       "version_major": 2,
       "version_minor": 0
      },
      "text/plain": [
       "Validation: |          | 0/? [00:00<?, ?it/s]"
      ]
     },
     "metadata": {},
     "output_type": "display_data"
    },
    {
     "data": {
      "application/vnd.jupyter.widget-view+json": {
       "model_id": "4c61114a032d4958b1b81d24425fd2b2",
       "version_major": 2,
       "version_minor": 0
      },
      "text/plain": [
       "Validation: |          | 0/? [00:00<?, ?it/s]"
      ]
     },
     "metadata": {},
     "output_type": "display_data"
    },
    {
     "data": {
      "application/vnd.jupyter.widget-view+json": {
       "model_id": "da688cb16e9149b5a5bcd5ce75ca8547",
       "version_major": 2,
       "version_minor": 0
      },
      "text/plain": [
       "Validation: |          | 0/? [00:00<?, ?it/s]"
      ]
     },
     "metadata": {},
     "output_type": "display_data"
    },
    {
     "data": {
      "application/vnd.jupyter.widget-view+json": {
       "model_id": "1e88d007d5f846eabc7e91258de33fb6",
       "version_major": 2,
       "version_minor": 0
      },
      "text/plain": [
       "Validation: |          | 0/? [00:00<?, ?it/s]"
      ]
     },
     "metadata": {},
     "output_type": "display_data"
    },
    {
     "data": {
      "application/vnd.jupyter.widget-view+json": {
       "model_id": "9c85eea495c843469de80cf72b3e68ac",
       "version_major": 2,
       "version_minor": 0
      },
      "text/plain": [
       "Validation: |          | 0/? [00:00<?, ?it/s]"
      ]
     },
     "metadata": {},
     "output_type": "display_data"
    },
    {
     "data": {
      "application/vnd.jupyter.widget-view+json": {
       "model_id": "4de10ee5b7d44a648c7092b50de5207f",
       "version_major": 2,
       "version_minor": 0
      },
      "text/plain": [
       "Validation: |          | 0/? [00:00<?, ?it/s]"
      ]
     },
     "metadata": {},
     "output_type": "display_data"
    },
    {
     "data": {
      "application/vnd.jupyter.widget-view+json": {
       "model_id": "0eeffb9a2444458193816d9419997f43",
       "version_major": 2,
       "version_minor": 0
      },
      "text/plain": [
       "Validation: |          | 0/? [00:00<?, ?it/s]"
      ]
     },
     "metadata": {},
     "output_type": "display_data"
    },
    {
     "data": {
      "application/vnd.jupyter.widget-view+json": {
       "model_id": "bad2ac290bf34caf9764ea0104d331df",
       "version_major": 2,
       "version_minor": 0
      },
      "text/plain": [
       "Validation: |          | 0/? [00:00<?, ?it/s]"
      ]
     },
     "metadata": {},
     "output_type": "display_data"
    },
    {
     "data": {
      "application/vnd.jupyter.widget-view+json": {
       "model_id": "398d69ee455a4982b8c50ae27f0035a5",
       "version_major": 2,
       "version_minor": 0
      },
      "text/plain": [
       "Validation: |          | 0/? [00:00<?, ?it/s]"
      ]
     },
     "metadata": {},
     "output_type": "display_data"
    }
   ],
   "source": [
    "logger = TensorBoardLogger(f\"../../../logs/expert/no_preprocess_no_autoencoder\", name=\"expert_tensorboard\")\n",
    "csv_logger = CSVLogger(f\"../../../logs/expert/no_preprocess_no_autoencoder\", name=\"expert_csv\")\n",
    "lr_monitor = LearningRateMonitor(logging_interval='epoch')\n",
    "\n",
    "\n",
    "trainer = pl.Trainer(\n",
    "        max_epochs=50,\n",
    "        logger=[logger, csv_logger],\n",
    "        callbacks=[lr_monitor],\n",
    "        accelerator='gpu',\n",
    "        precision='64-true',\n",
    ")\n",
    "\n",
    "trainer.fit(expert_model, datamodule=datamodule)"
   ]
  }
 ],
 "metadata": {
  "kernelspec": {
   "display_name": "env",
   "language": "python",
   "name": "python3"
  },
  "language_info": {
   "codemirror_mode": {
    "name": "ipython",
    "version": 3
   },
   "file_extension": ".py",
   "mimetype": "text/x-python",
   "name": "python",
   "nbconvert_exporter": "python",
   "pygments_lexer": "ipython3",
   "version": "3.11.9"
  }
 },
 "nbformat": 4,
 "nbformat_minor": 2
}
