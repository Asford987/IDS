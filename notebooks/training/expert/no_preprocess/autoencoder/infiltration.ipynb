{
 "cells": [
  {
   "cell_type": "code",
   "execution_count": 1,
   "metadata": {},
   "outputs": [],
   "source": [
    "import warnings\n",
    "import sys\n",
    "sys.path.append('../../../../..')\n",
    "warnings.filterwarnings(\"ignore\")\n",
    "import os\n",
    "os.environ['TF_CPP_MIN_LOG_LEVEL'] = '2'\n",
    "\n",
    "from models import *\n",
    "from pytorch_lightning.loggers import TensorBoardLogger, CSVLogger\n",
    "from pytorch_lightning.callbacks import LearningRateMonitor\n",
    "import pandas as pd\n",
    "from sklearn.model_selection import train_test_split"
   ]
  },
  {
   "cell_type": "code",
   "execution_count": 2,
   "metadata": {},
   "outputs": [
    {
     "data": {
      "text/html": [
       "<div>\n",
       "<style scoped>\n",
       "    .dataframe tbody tr th:only-of-type {\n",
       "        vertical-align: middle;\n",
       "    }\n",
       "\n",
       "    .dataframe tbody tr th {\n",
       "        vertical-align: top;\n",
       "    }\n",
       "\n",
       "    .dataframe thead th {\n",
       "        text-align: right;\n",
       "    }\n",
       "</style>\n",
       "<table border=\"1\" class=\"dataframe\">\n",
       "  <thead>\n",
       "    <tr style=\"text-align: right;\">\n",
       "      <th></th>\n",
       "      <th>Dst Port</th>\n",
       "      <th>Protocol</th>\n",
       "      <th>Timestamp</th>\n",
       "      <th>Flow Duration</th>\n",
       "      <th>Tot Fwd Pkts</th>\n",
       "      <th>Tot Bwd Pkts</th>\n",
       "      <th>TotLen Fwd Pkts</th>\n",
       "      <th>TotLen Bwd Pkts</th>\n",
       "      <th>Fwd Pkt Len Max</th>\n",
       "      <th>Fwd Pkt Len Min</th>\n",
       "      <th>...</th>\n",
       "      <th>Fwd Seg Size Min</th>\n",
       "      <th>Active Mean</th>\n",
       "      <th>Active Std</th>\n",
       "      <th>Active Max</th>\n",
       "      <th>Active Min</th>\n",
       "      <th>Idle Mean</th>\n",
       "      <th>Idle Std</th>\n",
       "      <th>Idle Max</th>\n",
       "      <th>Idle Min</th>\n",
       "      <th>Label</th>\n",
       "    </tr>\n",
       "  </thead>\n",
       "  <tbody>\n",
       "    <tr>\n",
       "      <th>0</th>\n",
       "      <td>3389.0</td>\n",
       "      <td>6.0</td>\n",
       "      <td>1.519867e+09</td>\n",
       "      <td>3899579.0</td>\n",
       "      <td>14.0</td>\n",
       "      <td>7.0</td>\n",
       "      <td>1383.0</td>\n",
       "      <td>392.0</td>\n",
       "      <td>678.0</td>\n",
       "      <td>0.0</td>\n",
       "      <td>...</td>\n",
       "      <td>20.0</td>\n",
       "      <td>0.0</td>\n",
       "      <td>0.0</td>\n",
       "      <td>0.0</td>\n",
       "      <td>0.0</td>\n",
       "      <td>0.0</td>\n",
       "      <td>0.0</td>\n",
       "      <td>0.0</td>\n",
       "      <td>0.0</td>\n",
       "      <td>Benign</td>\n",
       "    </tr>\n",
       "    <tr>\n",
       "      <th>1</th>\n",
       "      <td>443.0</td>\n",
       "      <td>6.0</td>\n",
       "      <td>1.519808e+09</td>\n",
       "      <td>194.0</td>\n",
       "      <td>2.0</td>\n",
       "      <td>0.0</td>\n",
       "      <td>0.0</td>\n",
       "      <td>0.0</td>\n",
       "      <td>0.0</td>\n",
       "      <td>0.0</td>\n",
       "      <td>...</td>\n",
       "      <td>20.0</td>\n",
       "      <td>0.0</td>\n",
       "      <td>0.0</td>\n",
       "      <td>0.0</td>\n",
       "      <td>0.0</td>\n",
       "      <td>0.0</td>\n",
       "      <td>0.0</td>\n",
       "      <td>0.0</td>\n",
       "      <td>0.0</td>\n",
       "      <td>Benign</td>\n",
       "    </tr>\n",
       "    <tr>\n",
       "      <th>2</th>\n",
       "      <td>3389.0</td>\n",
       "      <td>6.0</td>\n",
       "      <td>1.519902e+09</td>\n",
       "      <td>15708594.0</td>\n",
       "      <td>4.0</td>\n",
       "      <td>2.0</td>\n",
       "      <td>43.0</td>\n",
       "      <td>0.0</td>\n",
       "      <td>43.0</td>\n",
       "      <td>0.0</td>\n",
       "      <td>...</td>\n",
       "      <td>20.0</td>\n",
       "      <td>451578.0</td>\n",
       "      <td>0.0</td>\n",
       "      <td>451578.0</td>\n",
       "      <td>451578.0</td>\n",
       "      <td>15300000.0</td>\n",
       "      <td>0.0</td>\n",
       "      <td>15300000.0</td>\n",
       "      <td>15300000.0</td>\n",
       "      <td>Benign</td>\n",
       "    </tr>\n",
       "    <tr>\n",
       "      <th>3</th>\n",
       "      <td>53.0</td>\n",
       "      <td>17.0</td>\n",
       "      <td>1.519896e+09</td>\n",
       "      <td>24712.0</td>\n",
       "      <td>2.0</td>\n",
       "      <td>2.0</td>\n",
       "      <td>74.0</td>\n",
       "      <td>106.0</td>\n",
       "      <td>37.0</td>\n",
       "      <td>37.0</td>\n",
       "      <td>...</td>\n",
       "      <td>8.0</td>\n",
       "      <td>0.0</td>\n",
       "      <td>0.0</td>\n",
       "      <td>0.0</td>\n",
       "      <td>0.0</td>\n",
       "      <td>0.0</td>\n",
       "      <td>0.0</td>\n",
       "      <td>0.0</td>\n",
       "      <td>0.0</td>\n",
       "      <td>Benign</td>\n",
       "    </tr>\n",
       "    <tr>\n",
       "      <th>4</th>\n",
       "      <td>443.0</td>\n",
       "      <td>6.0</td>\n",
       "      <td>1.519792e+09</td>\n",
       "      <td>208.0</td>\n",
       "      <td>2.0</td>\n",
       "      <td>0.0</td>\n",
       "      <td>0.0</td>\n",
       "      <td>0.0</td>\n",
       "      <td>0.0</td>\n",
       "      <td>0.0</td>\n",
       "      <td>...</td>\n",
       "      <td>20.0</td>\n",
       "      <td>0.0</td>\n",
       "      <td>0.0</td>\n",
       "      <td>0.0</td>\n",
       "      <td>0.0</td>\n",
       "      <td>0.0</td>\n",
       "      <td>0.0</td>\n",
       "      <td>0.0</td>\n",
       "      <td>0.0</td>\n",
       "      <td>Benign</td>\n",
       "    </tr>\n",
       "  </tbody>\n",
       "</table>\n",
       "<p>5 rows × 80 columns</p>\n",
       "</div>"
      ],
      "text/plain": [
       "   Dst Port  Protocol     Timestamp  Flow Duration  Tot Fwd Pkts  \\\n",
       "0    3389.0       6.0  1.519867e+09      3899579.0          14.0   \n",
       "1     443.0       6.0  1.519808e+09          194.0           2.0   \n",
       "2    3389.0       6.0  1.519902e+09     15708594.0           4.0   \n",
       "3      53.0      17.0  1.519896e+09        24712.0           2.0   \n",
       "4     443.0       6.0  1.519792e+09          208.0           2.0   \n",
       "\n",
       "   Tot Bwd Pkts  TotLen Fwd Pkts  TotLen Bwd Pkts  Fwd Pkt Len Max  \\\n",
       "0           7.0           1383.0            392.0            678.0   \n",
       "1           0.0              0.0              0.0              0.0   \n",
       "2           2.0             43.0              0.0             43.0   \n",
       "3           2.0             74.0            106.0             37.0   \n",
       "4           0.0              0.0              0.0              0.0   \n",
       "\n",
       "   Fwd Pkt Len Min  ...  Fwd Seg Size Min  Active Mean  Active Std  \\\n",
       "0              0.0  ...              20.0          0.0         0.0   \n",
       "1              0.0  ...              20.0          0.0         0.0   \n",
       "2              0.0  ...              20.0     451578.0         0.0   \n",
       "3             37.0  ...               8.0          0.0         0.0   \n",
       "4              0.0  ...              20.0          0.0         0.0   \n",
       "\n",
       "   Active Max  Active Min   Idle Mean  Idle Std    Idle Max    Idle Min  \\\n",
       "0         0.0         0.0         0.0       0.0         0.0         0.0   \n",
       "1         0.0         0.0         0.0       0.0         0.0         0.0   \n",
       "2    451578.0    451578.0  15300000.0       0.0  15300000.0  15300000.0   \n",
       "3         0.0         0.0         0.0       0.0         0.0         0.0   \n",
       "4         0.0         0.0         0.0       0.0         0.0         0.0   \n",
       "\n",
       "    Label  \n",
       "0  Benign  \n",
       "1  Benign  \n",
       "2  Benign  \n",
       "3  Benign  \n",
       "4  Benign  \n",
       "\n",
       "[5 rows x 80 columns]"
      ]
     },
     "execution_count": 2,
     "metadata": {},
     "output_type": "execute_result"
    }
   ],
   "source": [
    "data_path = '../../../../../data/CIC_2018/no_preprocess/df_equal_Infilteration.parquet'\n",
    "df = pd.read_parquet(data_path)\n",
    "df.head()"
   ]
  },
  {
   "cell_type": "code",
   "execution_count": 3,
   "metadata": {},
   "outputs": [
    {
     "data": {
      "text/plain": [
       "0"
      ]
     },
     "execution_count": 3,
     "metadata": {},
     "output_type": "execute_result"
    }
   ],
   "source": [
    "df['Label'].isna().sum()"
   ]
  },
  {
   "cell_type": "code",
   "execution_count": 4,
   "metadata": {},
   "outputs": [
    {
     "name": "stdout",
     "output_type": "stream",
     "text": [
      "Number of infinite values in the dataframe: 3944\n",
      "Number of infinite values in the dataframe: 0\n"
     ]
    }
   ],
   "source": [
    "import numpy as np\n",
    "\n",
    "infinite_values = df.isin([np.inf, -np.inf]).sum().sum()\n",
    "print(f\"Number of infinite values in the dataframe: {infinite_values}\")\n",
    "\n",
    "df.replace([np.inf, -np.inf], np.nan, inplace=True)\n",
    "df.dropna(inplace=True)\n",
    "\n",
    "infinite_values = df.isin([np.inf, -np.inf]).sum().sum()\n",
    "print(f\"Number of infinite values in the dataframe: {infinite_values}\")\n"
   ]
  },
  {
   "cell_type": "code",
   "execution_count": 5,
   "metadata": {},
   "outputs": [
    {
     "data": {
      "text/plain": [
       "Label\n",
       "Infilteration    160639\n",
       "Benign           160308\n",
       "Label                 0\n",
       "Name: count, dtype: int64"
      ]
     },
     "execution_count": 5,
     "metadata": {},
     "output_type": "execute_result"
    }
   ],
   "source": [
    "df['Label'].value_counts()"
   ]
  },
  {
   "cell_type": "code",
   "execution_count": 6,
   "metadata": {},
   "outputs": [],
   "source": [
    "df = df.drop(index=df.loc[df['Label'] == 'Label'].index)"
   ]
  },
  {
   "cell_type": "code",
   "execution_count": 7,
   "metadata": {},
   "outputs": [],
   "source": [
    "df = df.dropna()"
   ]
  },
  {
   "cell_type": "code",
   "execution_count": 8,
   "metadata": {},
   "outputs": [],
   "source": [
    "X = df.drop('Label', axis=1)\n",
    "y = df['Label']\n",
    "y = y.map({'Benign': 0, 'Infilteration': 1})\n",
    "X_train, X_test, y_train, y_test = train_test_split(X, y,test_size=0.2, stratify=y)"
   ]
  },
  {
   "cell_type": "code",
   "execution_count": 9,
   "metadata": {},
   "outputs": [],
   "source": [
    "df_train = pd.concat([X_train, y_train], axis=1)\n",
    "df_test = pd.concat([X_test, y_test], axis=1)"
   ]
  },
  {
   "cell_type": "code",
   "execution_count": 10,
   "metadata": {},
   "outputs": [
    {
     "data": {
      "text/plain": [
       "0"
      ]
     },
     "execution_count": 10,
     "metadata": {},
     "output_type": "execute_result"
    }
   ],
   "source": [
    "df_train.isna().sum().sum()"
   ]
  },
  {
   "cell_type": "code",
   "execution_count": 11,
   "metadata": {},
   "outputs": [
    {
     "data": {
      "text/plain": [
       "0"
      ]
     },
     "execution_count": 11,
     "metadata": {},
     "output_type": "execute_result"
    }
   ],
   "source": [
    "df_test.isna().sum().sum()"
   ]
  },
  {
   "cell_type": "code",
   "execution_count": 12,
   "metadata": {},
   "outputs": [
    {
     "data": {
      "text/plain": [
       "Label\n",
       "1.0    128511\n",
       "0.0    128246\n",
       "Name: count, dtype: int64"
      ]
     },
     "execution_count": 12,
     "metadata": {},
     "output_type": "execute_result"
    }
   ],
   "source": [
    "df_train['Label'].value_counts()"
   ]
  },
  {
   "cell_type": "code",
   "execution_count": 13,
   "metadata": {},
   "outputs": [
    {
     "name": "stdout",
     "output_type": "stream",
     "text": [
      "<class 'pandas.core.frame.DataFrame'>\n",
      "Index: 256757 entries, 182998 to 81882\n",
      "Data columns (total 80 columns):\n",
      " #   Column             Non-Null Count   Dtype  \n",
      "---  ------             --------------   -----  \n",
      " 0   Dst Port           256757 non-null  float32\n",
      " 1   Protocol           256757 non-null  float16\n",
      " 2   Timestamp          256757 non-null  float32\n",
      " 3   Flow Duration      256757 non-null  float32\n",
      " 4   Tot Fwd Pkts       256757 non-null  float32\n",
      " 5   Tot Bwd Pkts       256757 non-null  float16\n",
      " 6   TotLen Fwd Pkts    256757 non-null  float32\n",
      " 7   TotLen Bwd Pkts    256757 non-null  float32\n",
      " 8   Fwd Pkt Len Max    256757 non-null  float16\n",
      " 9   Fwd Pkt Len Min    256757 non-null  float16\n",
      " 10  Fwd Pkt Len Mean   256757 non-null  float16\n",
      " 11  Fwd Pkt Len Std    256757 non-null  float16\n",
      " 12  Bwd Pkt Len Max    256757 non-null  float16\n",
      " 13  Bwd Pkt Len Min    256757 non-null  float16\n",
      " 14  Bwd Pkt Len Mean   256757 non-null  float16\n",
      " 15  Bwd Pkt Len Std    256757 non-null  float16\n",
      " 16  Flow Byts/s        256757 non-null  float64\n",
      " 17  Flow Pkts/s        256757 non-null  float64\n",
      " 18  Flow IAT Mean      256757 non-null  float32\n",
      " 19  Flow IAT Std       256757 non-null  float32\n",
      " 20  Flow IAT Max       256757 non-null  float32\n",
      " 21  Flow IAT Min       256757 non-null  float32\n",
      " 22  Fwd IAT Tot        256757 non-null  float32\n",
      " 23  Fwd IAT Mean       256757 non-null  float32\n",
      " 24  Fwd IAT Std        256757 non-null  float32\n",
      " 25  Fwd IAT Max        256757 non-null  float32\n",
      " 26  Fwd IAT Min        256757 non-null  float32\n",
      " 27  Bwd IAT Tot        256757 non-null  float32\n",
      " 28  Bwd IAT Mean       256757 non-null  float32\n",
      " 29  Bwd IAT Std        256757 non-null  float32\n",
      " 30  Bwd IAT Max        256757 non-null  float32\n",
      " 31  Bwd IAT Min        256757 non-null  float32\n",
      " 32  Fwd PSH Flags      256757 non-null  float16\n",
      " 33  Bwd PSH Flags      256757 non-null  float16\n",
      " 34  Fwd URG Flags      256757 non-null  float16\n",
      " 35  Bwd URG Flags      256757 non-null  float16\n",
      " 36  Fwd Header Len     256757 non-null  float32\n",
      " 37  Bwd Header Len     256757 non-null  float32\n",
      " 38  Fwd Pkts/s         256757 non-null  float32\n",
      " 39  Bwd Pkts/s         256757 non-null  float32\n",
      " 40  Pkt Len Min        256757 non-null  float16\n",
      " 41  Pkt Len Max        256757 non-null  float16\n",
      " 42  Pkt Len Mean       256757 non-null  float16\n",
      " 43  Pkt Len Std        256757 non-null  float16\n",
      " 44  Pkt Len Var        256757 non-null  float32\n",
      " 45  FIN Flag Cnt       256757 non-null  float16\n",
      " 46  SYN Flag Cnt       256757 non-null  float16\n",
      " 47  RST Flag Cnt       256757 non-null  float16\n",
      " 48  PSH Flag Cnt       256757 non-null  float16\n",
      " 49  ACK Flag Cnt       256757 non-null  float16\n",
      " 50  URG Flag Cnt       256757 non-null  float16\n",
      " 51  CWE Flag Count     256757 non-null  float16\n",
      " 52  ECE Flag Cnt       256757 non-null  float16\n",
      " 53  Down/Up Ratio      256757 non-null  float16\n",
      " 54  Pkt Size Avg       256757 non-null  float16\n",
      " 55  Fwd Seg Size Avg   256757 non-null  float16\n",
      " 56  Bwd Seg Size Avg   256757 non-null  float16\n",
      " 57  Fwd Byts/b Avg     256757 non-null  float16\n",
      " 58  Fwd Pkts/b Avg     256757 non-null  float16\n",
      " 59  Fwd Blk Rate Avg   256757 non-null  float16\n",
      " 60  Bwd Byts/b Avg     256757 non-null  float16\n",
      " 61  Bwd Pkts/b Avg     256757 non-null  float16\n",
      " 62  Bwd Blk Rate Avg   256757 non-null  float16\n",
      " 63  Subflow Fwd Pkts   256757 non-null  float32\n",
      " 64  Subflow Fwd Byts   256757 non-null  float32\n",
      " 65  Subflow Bwd Pkts   256757 non-null  float16\n",
      " 66  Subflow Bwd Byts   256757 non-null  float32\n",
      " 67  Init Fwd Win Byts  256757 non-null  float32\n",
      " 68  Init Bwd Win Byts  256757 non-null  float32\n",
      " 69  Fwd Act Data Pkts  256757 non-null  float32\n",
      " 70  Fwd Seg Size Min   256757 non-null  float16\n",
      " 71  Active Mean        256757 non-null  float32\n",
      " 72  Active Std         256757 non-null  float32\n",
      " 73  Active Max         256757 non-null  float32\n",
      " 74  Active Min         256757 non-null  float32\n",
      " 75  Idle Mean          256757 non-null  float32\n",
      " 76  Idle Std           256757 non-null  float32\n",
      " 77  Idle Max           256757 non-null  float32\n",
      " 78  Idle Min           256757 non-null  float32\n",
      " 79  Label              256757 non-null  float64\n",
      "dtypes: float16(38), float32(39), float64(3)\n",
      "memory usage: 64.6 MB\n",
      "<class 'pandas.core.frame.DataFrame'>\n",
      "Index: 64190 entries, 24491 to 289171\n",
      "Data columns (total 80 columns):\n",
      " #   Column             Non-Null Count  Dtype  \n",
      "---  ------             --------------  -----  \n",
      " 0   Dst Port           64190 non-null  float32\n",
      " 1   Protocol           64190 non-null  float16\n",
      " 2   Timestamp          64190 non-null  float32\n",
      " 3   Flow Duration      64190 non-null  float32\n",
      " 4   Tot Fwd Pkts       64190 non-null  float32\n",
      " 5   Tot Bwd Pkts       64190 non-null  float16\n",
      " 6   TotLen Fwd Pkts    64190 non-null  float32\n",
      " 7   TotLen Bwd Pkts    64190 non-null  float32\n",
      " 8   Fwd Pkt Len Max    64190 non-null  float16\n",
      " 9   Fwd Pkt Len Min    64190 non-null  float16\n",
      " 10  Fwd Pkt Len Mean   64190 non-null  float16\n",
      " 11  Fwd Pkt Len Std    64190 non-null  float16\n",
      " 12  Bwd Pkt Len Max    64190 non-null  float16\n",
      " 13  Bwd Pkt Len Min    64190 non-null  float16\n",
      " 14  Bwd Pkt Len Mean   64190 non-null  float16\n",
      " 15  Bwd Pkt Len Std    64190 non-null  float16\n",
      " 16  Flow Byts/s        64190 non-null  float64\n",
      " 17  Flow Pkts/s        64190 non-null  float64\n",
      " 18  Flow IAT Mean      64190 non-null  float32\n",
      " 19  Flow IAT Std       64190 non-null  float32\n",
      " 20  Flow IAT Max       64190 non-null  float32\n",
      " 21  Flow IAT Min       64190 non-null  float32\n",
      " 22  Fwd IAT Tot        64190 non-null  float32\n",
      " 23  Fwd IAT Mean       64190 non-null  float32\n",
      " 24  Fwd IAT Std        64190 non-null  float32\n",
      " 25  Fwd IAT Max        64190 non-null  float32\n",
      " 26  Fwd IAT Min        64190 non-null  float32\n",
      " 27  Bwd IAT Tot        64190 non-null  float32\n",
      " 28  Bwd IAT Mean       64190 non-null  float32\n",
      " 29  Bwd IAT Std        64190 non-null  float32\n",
      " 30  Bwd IAT Max        64190 non-null  float32\n",
      " 31  Bwd IAT Min        64190 non-null  float32\n",
      " 32  Fwd PSH Flags      64190 non-null  float16\n",
      " 33  Bwd PSH Flags      64190 non-null  float16\n",
      " 34  Fwd URG Flags      64190 non-null  float16\n",
      " 35  Bwd URG Flags      64190 non-null  float16\n",
      " 36  Fwd Header Len     64190 non-null  float32\n",
      " 37  Bwd Header Len     64190 non-null  float32\n",
      " 38  Fwd Pkts/s         64190 non-null  float32\n",
      " 39  Bwd Pkts/s         64190 non-null  float32\n",
      " 40  Pkt Len Min        64190 non-null  float16\n",
      " 41  Pkt Len Max        64190 non-null  float16\n",
      " 42  Pkt Len Mean       64190 non-null  float16\n",
      " 43  Pkt Len Std        64190 non-null  float16\n",
      " 44  Pkt Len Var        64190 non-null  float32\n",
      " 45  FIN Flag Cnt       64190 non-null  float16\n",
      " 46  SYN Flag Cnt       64190 non-null  float16\n",
      " 47  RST Flag Cnt       64190 non-null  float16\n",
      " 48  PSH Flag Cnt       64190 non-null  float16\n",
      " 49  ACK Flag Cnt       64190 non-null  float16\n",
      " 50  URG Flag Cnt       64190 non-null  float16\n",
      " 51  CWE Flag Count     64190 non-null  float16\n",
      " 52  ECE Flag Cnt       64190 non-null  float16\n",
      " 53  Down/Up Ratio      64190 non-null  float16\n",
      " 54  Pkt Size Avg       64190 non-null  float16\n",
      " 55  Fwd Seg Size Avg   64190 non-null  float16\n",
      " 56  Bwd Seg Size Avg   64190 non-null  float16\n",
      " 57  Fwd Byts/b Avg     64190 non-null  float16\n",
      " 58  Fwd Pkts/b Avg     64190 non-null  float16\n",
      " 59  Fwd Blk Rate Avg   64190 non-null  float16\n",
      " 60  Bwd Byts/b Avg     64190 non-null  float16\n",
      " 61  Bwd Pkts/b Avg     64190 non-null  float16\n",
      " 62  Bwd Blk Rate Avg   64190 non-null  float16\n",
      " 63  Subflow Fwd Pkts   64190 non-null  float32\n",
      " 64  Subflow Fwd Byts   64190 non-null  float32\n",
      " 65  Subflow Bwd Pkts   64190 non-null  float16\n",
      " 66  Subflow Bwd Byts   64190 non-null  float32\n",
      " 67  Init Fwd Win Byts  64190 non-null  float32\n",
      " 68  Init Bwd Win Byts  64190 non-null  float32\n",
      " 69  Fwd Act Data Pkts  64190 non-null  float32\n",
      " 70  Fwd Seg Size Min   64190 non-null  float16\n",
      " 71  Active Mean        64190 non-null  float32\n",
      " 72  Active Std         64190 non-null  float32\n",
      " 73  Active Max         64190 non-null  float32\n",
      " 74  Active Min         64190 non-null  float32\n",
      " 75  Idle Mean          64190 non-null  float32\n",
      " 76  Idle Std           64190 non-null  float32\n",
      " 77  Idle Max           64190 non-null  float32\n",
      " 78  Idle Min           64190 non-null  float32\n",
      " 79  Label              64190 non-null  float64\n",
      "dtypes: float16(38), float32(39), float64(3)\n",
      "memory usage: 16.2 MB\n"
     ]
    }
   ],
   "source": [
    "df_train.info()\n",
    "df_test.info()"
   ]
  },
  {
   "cell_type": "code",
   "execution_count": 14,
   "metadata": {},
   "outputs": [
    {
     "data": {
      "text/plain": [
       "Label\n",
       "1.0    32128\n",
       "0.0    32062\n",
       "Name: count, dtype: int64"
      ]
     },
     "execution_count": 14,
     "metadata": {},
     "output_type": "execute_result"
    }
   ],
   "source": [
    "df_test['Label'].value_counts()"
   ]
  },
  {
   "cell_type": "code",
   "execution_count": 15,
   "metadata": {},
   "outputs": [],
   "source": [
    "datamodule = ExpertPretrainDataModule(df_train, df_test, binarize_on_label=1)"
   ]
  },
  {
   "cell_type": "code",
   "execution_count": 16,
   "metadata": {},
   "outputs": [
    {
     "name": "stdout",
     "output_type": "stream",
     "text": [
      "ExpertModel(\n",
      "  (model): Sequential(\n",
      "    (0): BatchNorm1d(79, eps=1e-05, momentum=0.1, affine=True, track_running_stats=True)\n",
      "    (1): Linear(in_features=79, out_features=256, bias=True)\n",
      "    (2): LeakyReLU(negative_slope=0.01)\n",
      "    (3): BatchNorm1d(256, eps=1e-05, momentum=0.1, affine=True, track_running_stats=True)\n",
      "    (4): Linear(in_features=256, out_features=128, bias=True)\n",
      "    (5): LeakyReLU(negative_slope=0.01)\n",
      "    (6): Linear(in_features=128, out_features=1, bias=True)\n",
      "  )\n",
      ")\n"
     ]
    }
   ],
   "source": [
    "expert_model = ExpertModel(79, [256, 128])\n",
    "print(expert_model)"
   ]
  },
  {
   "cell_type": "code",
   "execution_count": 17,
   "metadata": {},
   "outputs": [
    {
     "name": "stderr",
     "output_type": "stream",
     "text": [
      "GPU available: True (cuda), used: True\n",
      "TPU available: False, using: 0 TPU cores\n",
      "HPU available: False, using: 0 HPUs\n",
      "You are using a CUDA device ('NVIDIA GeForce RTX 3060 Laptop GPU') that has Tensor Cores. To properly utilize them, you should set `torch.set_float32_matmul_precision('medium' | 'high')` which will trade-off precision for performance. For more details, read https://pytorch.org/docs/stable/generated/torch.set_float32_matmul_precision.html#torch.set_float32_matmul_precision\n",
      "2024-10-06 20:52:26.827989: E external/local_xla/xla/stream_executor/cuda/cuda_fft.cc:485] Unable to register cuFFT factory: Attempting to register factory for plugin cuFFT when one has already been registered\n",
      "2024-10-06 20:52:26.840803: E external/local_xla/xla/stream_executor/cuda/cuda_dnn.cc:8454] Unable to register cuDNN factory: Attempting to register factory for plugin cuDNN when one has already been registered\n",
      "2024-10-06 20:52:26.846177: E external/local_xla/xla/stream_executor/cuda/cuda_blas.cc:1452] Unable to register cuBLAS factory: Attempting to register factory for plugin cuBLAS when one has already been registered\n",
      "LOCAL_RANK: 0 - CUDA_VISIBLE_DEVICES: [0]\n",
      "\n",
      "  | Name  | Type       | Params | Mode \n",
      "---------------------------------------------\n",
      "0 | model | Sequential | 54.2 K | train\n",
      "---------------------------------------------\n",
      "54.2 K    Trainable params\n",
      "0         Non-trainable params\n",
      "54.2 K    Total params\n",
      "0.217     Total estimated model params size (MB)\n",
      "8         Modules in train mode\n",
      "0         Modules in eval mode\n"
     ]
    },
    {
     "data": {
      "application/vnd.jupyter.widget-view+json": {
       "model_id": "2b120e9da3754246a4f3fcc1b2996110",
       "version_major": 2,
       "version_minor": 0
      },
      "text/plain": [
       "Sanity Checking: |          | 0/? [00:00<?, ?it/s]"
      ]
     },
     "metadata": {},
     "output_type": "display_data"
    },
    {
     "data": {
      "application/vnd.jupyter.widget-view+json": {
       "model_id": "a8eaa3e7bad94e0e95cd099717bf9196",
       "version_major": 2,
       "version_minor": 0
      },
      "text/plain": [
       "Training: |          | 0/? [00:00<?, ?it/s]"
      ]
     },
     "metadata": {},
     "output_type": "display_data"
    },
    {
     "data": {
      "application/vnd.jupyter.widget-view+json": {
       "model_id": "c658ce35a7284bd49f4acefd4aba32e0",
       "version_major": 2,
       "version_minor": 0
      },
      "text/plain": [
       "Validation: |          | 0/? [00:00<?, ?it/s]"
      ]
     },
     "metadata": {},
     "output_type": "display_data"
    },
    {
     "data": {
      "application/vnd.jupyter.widget-view+json": {
       "model_id": "29cacebf654e4f41b8eea129c733e124",
       "version_major": 2,
       "version_minor": 0
      },
      "text/plain": [
       "Validation: |          | 0/? [00:00<?, ?it/s]"
      ]
     },
     "metadata": {},
     "output_type": "display_data"
    },
    {
     "data": {
      "application/vnd.jupyter.widget-view+json": {
       "model_id": "abca413eaf4f49e5be2a165be3581273",
       "version_major": 2,
       "version_minor": 0
      },
      "text/plain": [
       "Validation: |          | 0/? [00:00<?, ?it/s]"
      ]
     },
     "metadata": {},
     "output_type": "display_data"
    },
    {
     "data": {
      "application/vnd.jupyter.widget-view+json": {
       "model_id": "62cdcbdea5814f2b9a6b27cb3f5e2f9b",
       "version_major": 2,
       "version_minor": 0
      },
      "text/plain": [
       "Validation: |          | 0/? [00:00<?, ?it/s]"
      ]
     },
     "metadata": {},
     "output_type": "display_data"
    },
    {
     "data": {
      "application/vnd.jupyter.widget-view+json": {
       "model_id": "3a583fb40c584e408f64c4b107e9f9d6",
       "version_major": 2,
       "version_minor": 0
      },
      "text/plain": [
       "Validation: |          | 0/? [00:00<?, ?it/s]"
      ]
     },
     "metadata": {},
     "output_type": "display_data"
    },
    {
     "data": {
      "application/vnd.jupyter.widget-view+json": {
       "model_id": "682f1056807e48808aba2a7a0a9e8171",
       "version_major": 2,
       "version_minor": 0
      },
      "text/plain": [
       "Validation: |          | 0/? [00:00<?, ?it/s]"
      ]
     },
     "metadata": {},
     "output_type": "display_data"
    },
    {
     "data": {
      "application/vnd.jupyter.widget-view+json": {
       "model_id": "77b91201839b41b9b0db4016a72379e9",
       "version_major": 2,
       "version_minor": 0
      },
      "text/plain": [
       "Validation: |          | 0/? [00:00<?, ?it/s]"
      ]
     },
     "metadata": {},
     "output_type": "display_data"
    },
    {
     "data": {
      "application/vnd.jupyter.widget-view+json": {
       "model_id": "1b5617dc8d0a4419963e781ed93e7f69",
       "version_major": 2,
       "version_minor": 0
      },
      "text/plain": [
       "Validation: |          | 0/? [00:00<?, ?it/s]"
      ]
     },
     "metadata": {},
     "output_type": "display_data"
    },
    {
     "data": {
      "application/vnd.jupyter.widget-view+json": {
       "model_id": "5092ec556a2f40fe8daf3c4de628ef1f",
       "version_major": 2,
       "version_minor": 0
      },
      "text/plain": [
       "Validation: |          | 0/? [00:00<?, ?it/s]"
      ]
     },
     "metadata": {},
     "output_type": "display_data"
    },
    {
     "data": {
      "application/vnd.jupyter.widget-view+json": {
       "model_id": "17d395b2a7144789897a559e6ebd6279",
       "version_major": 2,
       "version_minor": 0
      },
      "text/plain": [
       "Validation: |          | 0/? [00:00<?, ?it/s]"
      ]
     },
     "metadata": {},
     "output_type": "display_data"
    },
    {
     "data": {
      "application/vnd.jupyter.widget-view+json": {
       "model_id": "f5ff3a836666456db4f2262c8c61dde4",
       "version_major": 2,
       "version_minor": 0
      },
      "text/plain": [
       "Validation: |          | 0/? [00:00<?, ?it/s]"
      ]
     },
     "metadata": {},
     "output_type": "display_data"
    },
    {
     "data": {
      "application/vnd.jupyter.widget-view+json": {
       "model_id": "5f7704e91af94c0e856f4ab8fc9f6e96",
       "version_major": 2,
       "version_minor": 0
      },
      "text/plain": [
       "Validation: |          | 0/? [00:00<?, ?it/s]"
      ]
     },
     "metadata": {},
     "output_type": "display_data"
    },
    {
     "data": {
      "application/vnd.jupyter.widget-view+json": {
       "model_id": "b8fb2a59fe254f5a8d016a859cf0e754",
       "version_major": 2,
       "version_minor": 0
      },
      "text/plain": [
       "Validation: |          | 0/? [00:00<?, ?it/s]"
      ]
     },
     "metadata": {},
     "output_type": "display_data"
    },
    {
     "data": {
      "application/vnd.jupyter.widget-view+json": {
       "model_id": "ec07b3bcccd9400b960e451ad6c8e2ef",
       "version_major": 2,
       "version_minor": 0
      },
      "text/plain": [
       "Validation: |          | 0/? [00:00<?, ?it/s]"
      ]
     },
     "metadata": {},
     "output_type": "display_data"
    },
    {
     "data": {
      "application/vnd.jupyter.widget-view+json": {
       "model_id": "accdb13856a549c59dafd3e274138056",
       "version_major": 2,
       "version_minor": 0
      },
      "text/plain": [
       "Validation: |          | 0/? [00:00<?, ?it/s]"
      ]
     },
     "metadata": {},
     "output_type": "display_data"
    },
    {
     "data": {
      "application/vnd.jupyter.widget-view+json": {
       "model_id": "d6318697a14443c4a9813dcaf0d04659",
       "version_major": 2,
       "version_minor": 0
      },
      "text/plain": [
       "Validation: |          | 0/? [00:00<?, ?it/s]"
      ]
     },
     "metadata": {},
     "output_type": "display_data"
    },
    {
     "data": {
      "application/vnd.jupyter.widget-view+json": {
       "model_id": "47f25019d63a4e2e84c27765498783f0",
       "version_major": 2,
       "version_minor": 0
      },
      "text/plain": [
       "Validation: |          | 0/? [00:00<?, ?it/s]"
      ]
     },
     "metadata": {},
     "output_type": "display_data"
    },
    {
     "data": {
      "application/vnd.jupyter.widget-view+json": {
       "model_id": "0f4ca25300a644be8aa635d858c60eb3",
       "version_major": 2,
       "version_minor": 0
      },
      "text/plain": [
       "Validation: |          | 0/? [00:00<?, ?it/s]"
      ]
     },
     "metadata": {},
     "output_type": "display_data"
    },
    {
     "data": {
      "application/vnd.jupyter.widget-view+json": {
       "model_id": "b5600a06ed0a45499c1d771b9fb3c46c",
       "version_major": 2,
       "version_minor": 0
      },
      "text/plain": [
       "Validation: |          | 0/? [00:00<?, ?it/s]"
      ]
     },
     "metadata": {},
     "output_type": "display_data"
    },
    {
     "data": {
      "application/vnd.jupyter.widget-view+json": {
       "model_id": "4e4abcce6d194938abb3c74d474aa5a0",
       "version_major": 2,
       "version_minor": 0
      },
      "text/plain": [
       "Validation: |          | 0/? [00:00<?, ?it/s]"
      ]
     },
     "metadata": {},
     "output_type": "display_data"
    },
    {
     "data": {
      "application/vnd.jupyter.widget-view+json": {
       "model_id": "2feb96a236d149bb8eb92643b9272b5d",
       "version_major": 2,
       "version_minor": 0
      },
      "text/plain": [
       "Validation: |          | 0/? [00:00<?, ?it/s]"
      ]
     },
     "metadata": {},
     "output_type": "display_data"
    },
    {
     "data": {
      "application/vnd.jupyter.widget-view+json": {
       "model_id": "6479378ef99743f19bae9dd05a8a7070",
       "version_major": 2,
       "version_minor": 0
      },
      "text/plain": [
       "Validation: |          | 0/? [00:00<?, ?it/s]"
      ]
     },
     "metadata": {},
     "output_type": "display_data"
    },
    {
     "data": {
      "application/vnd.jupyter.widget-view+json": {
       "model_id": "431206ad24c145a58e8c0da24bb7bb58",
       "version_major": 2,
       "version_minor": 0
      },
      "text/plain": [
       "Validation: |          | 0/? [00:00<?, ?it/s]"
      ]
     },
     "metadata": {},
     "output_type": "display_data"
    },
    {
     "data": {
      "application/vnd.jupyter.widget-view+json": {
       "model_id": "e10f894ac35047efa742102fe331aaf3",
       "version_major": 2,
       "version_minor": 0
      },
      "text/plain": [
       "Validation: |          | 0/? [00:00<?, ?it/s]"
      ]
     },
     "metadata": {},
     "output_type": "display_data"
    },
    {
     "data": {
      "application/vnd.jupyter.widget-view+json": {
       "model_id": "bfec6263843c459c8ebadfbe1552af8c",
       "version_major": 2,
       "version_minor": 0
      },
      "text/plain": [
       "Validation: |          | 0/? [00:00<?, ?it/s]"
      ]
     },
     "metadata": {},
     "output_type": "display_data"
    },
    {
     "data": {
      "application/vnd.jupyter.widget-view+json": {
       "model_id": "5359444575b0407fb8ab36bac356080d",
       "version_major": 2,
       "version_minor": 0
      },
      "text/plain": [
       "Validation: |          | 0/? [00:00<?, ?it/s]"
      ]
     },
     "metadata": {},
     "output_type": "display_data"
    },
    {
     "data": {
      "application/vnd.jupyter.widget-view+json": {
       "model_id": "52904fa63107412797c2be368b5d2df1",
       "version_major": 2,
       "version_minor": 0
      },
      "text/plain": [
       "Validation: |          | 0/? [00:00<?, ?it/s]"
      ]
     },
     "metadata": {},
     "output_type": "display_data"
    },
    {
     "data": {
      "application/vnd.jupyter.widget-view+json": {
       "model_id": "c9b9dbc9627f44f59172689ee3c8e811",
       "version_major": 2,
       "version_minor": 0
      },
      "text/plain": [
       "Validation: |          | 0/? [00:00<?, ?it/s]"
      ]
     },
     "metadata": {},
     "output_type": "display_data"
    },
    {
     "data": {
      "application/vnd.jupyter.widget-view+json": {
       "model_id": "cbce57ce10bc4f2e8c5abdd184aa71bd",
       "version_major": 2,
       "version_minor": 0
      },
      "text/plain": [
       "Validation: |          | 0/? [00:00<?, ?it/s]"
      ]
     },
     "metadata": {},
     "output_type": "display_data"
    },
    {
     "data": {
      "application/vnd.jupyter.widget-view+json": {
       "model_id": "46391d0f09d74aaea7d164bd2ebd7b7b",
       "version_major": 2,
       "version_minor": 0
      },
      "text/plain": [
       "Validation: |          | 0/? [00:00<?, ?it/s]"
      ]
     },
     "metadata": {},
     "output_type": "display_data"
    },
    {
     "data": {
      "application/vnd.jupyter.widget-view+json": {
       "model_id": "6b817478b967453798f5aa48c9333a4f",
       "version_major": 2,
       "version_minor": 0
      },
      "text/plain": [
       "Validation: |          | 0/? [00:00<?, ?it/s]"
      ]
     },
     "metadata": {},
     "output_type": "display_data"
    },
    {
     "data": {
      "application/vnd.jupyter.widget-view+json": {
       "model_id": "c7d75b315e91492d82da81000b7661c4",
       "version_major": 2,
       "version_minor": 0
      },
      "text/plain": [
       "Validation: |          | 0/? [00:00<?, ?it/s]"
      ]
     },
     "metadata": {},
     "output_type": "display_data"
    },
    {
     "data": {
      "application/vnd.jupyter.widget-view+json": {
       "model_id": "34ae6ea6e63547e1b2f9fe9d9d53ab04",
       "version_major": 2,
       "version_minor": 0
      },
      "text/plain": [
       "Validation: |          | 0/? [00:00<?, ?it/s]"
      ]
     },
     "metadata": {},
     "output_type": "display_data"
    },
    {
     "data": {
      "application/vnd.jupyter.widget-view+json": {
       "model_id": "ead39c7b45f24a90be433cf731a6a1ed",
       "version_major": 2,
       "version_minor": 0
      },
      "text/plain": [
       "Validation: |          | 0/? [00:00<?, ?it/s]"
      ]
     },
     "metadata": {},
     "output_type": "display_data"
    },
    {
     "data": {
      "application/vnd.jupyter.widget-view+json": {
       "model_id": "d608fccb780548c49ac6cdf4a5d18541",
       "version_major": 2,
       "version_minor": 0
      },
      "text/plain": [
       "Validation: |          | 0/? [00:00<?, ?it/s]"
      ]
     },
     "metadata": {},
     "output_type": "display_data"
    },
    {
     "data": {
      "application/vnd.jupyter.widget-view+json": {
       "model_id": "4b9fa16a4beb47c4a7c8d4c47074e820",
       "version_major": 2,
       "version_minor": 0
      },
      "text/plain": [
       "Validation: |          | 0/? [00:00<?, ?it/s]"
      ]
     },
     "metadata": {},
     "output_type": "display_data"
    },
    {
     "data": {
      "application/vnd.jupyter.widget-view+json": {
       "model_id": "95a4d04ffb6f4242abf9c582b49a42f7",
       "version_major": 2,
       "version_minor": 0
      },
      "text/plain": [
       "Validation: |          | 0/? [00:00<?, ?it/s]"
      ]
     },
     "metadata": {},
     "output_type": "display_data"
    },
    {
     "data": {
      "application/vnd.jupyter.widget-view+json": {
       "model_id": "17c4ee9a4dcb4e16b2e1313c9584c6d9",
       "version_major": 2,
       "version_minor": 0
      },
      "text/plain": [
       "Validation: |          | 0/? [00:00<?, ?it/s]"
      ]
     },
     "metadata": {},
     "output_type": "display_data"
    },
    {
     "data": {
      "application/vnd.jupyter.widget-view+json": {
       "model_id": "1a876b1eefa54badbcdffdf1687d15b9",
       "version_major": 2,
       "version_minor": 0
      },
      "text/plain": [
       "Validation: |          | 0/? [00:00<?, ?it/s]"
      ]
     },
     "metadata": {},
     "output_type": "display_data"
    },
    {
     "data": {
      "application/vnd.jupyter.widget-view+json": {
       "model_id": "8f98f868ae2e45919ee3468e350040a9",
       "version_major": 2,
       "version_minor": 0
      },
      "text/plain": [
       "Validation: |          | 0/? [00:00<?, ?it/s]"
      ]
     },
     "metadata": {},
     "output_type": "display_data"
    },
    {
     "data": {
      "application/vnd.jupyter.widget-view+json": {
       "model_id": "21fbe3072b1d48c9b6e509be27706821",
       "version_major": 2,
       "version_minor": 0
      },
      "text/plain": [
       "Validation: |          | 0/? [00:00<?, ?it/s]"
      ]
     },
     "metadata": {},
     "output_type": "display_data"
    },
    {
     "data": {
      "application/vnd.jupyter.widget-view+json": {
       "model_id": "af66b2f0ceb848a98d1d4f45c653e786",
       "version_major": 2,
       "version_minor": 0
      },
      "text/plain": [
       "Validation: |          | 0/? [00:00<?, ?it/s]"
      ]
     },
     "metadata": {},
     "output_type": "display_data"
    },
    {
     "data": {
      "application/vnd.jupyter.widget-view+json": {
       "model_id": "a613694ed95842b39809b0d85d2f146e",
       "version_major": 2,
       "version_minor": 0
      },
      "text/plain": [
       "Validation: |          | 0/? [00:00<?, ?it/s]"
      ]
     },
     "metadata": {},
     "output_type": "display_data"
    },
    {
     "data": {
      "application/vnd.jupyter.widget-view+json": {
       "model_id": "4183cc617b5147d3a5b8f6779f7ebd10",
       "version_major": 2,
       "version_minor": 0
      },
      "text/plain": [
       "Validation: |          | 0/? [00:00<?, ?it/s]"
      ]
     },
     "metadata": {},
     "output_type": "display_data"
    },
    {
     "data": {
      "application/vnd.jupyter.widget-view+json": {
       "model_id": "1f0fb7dee8b24863b7c92b538c129058",
       "version_major": 2,
       "version_minor": 0
      },
      "text/plain": [
       "Validation: |          | 0/? [00:00<?, ?it/s]"
      ]
     },
     "metadata": {},
     "output_type": "display_data"
    },
    {
     "data": {
      "application/vnd.jupyter.widget-view+json": {
       "model_id": "e1289fa1f11f41228186c98e389d3475",
       "version_major": 2,
       "version_minor": 0
      },
      "text/plain": [
       "Validation: |          | 0/? [00:00<?, ?it/s]"
      ]
     },
     "metadata": {},
     "output_type": "display_data"
    },
    {
     "data": {
      "application/vnd.jupyter.widget-view+json": {
       "model_id": "7c661ede99074740a75d299f0386001e",
       "version_major": 2,
       "version_minor": 0
      },
      "text/plain": [
       "Validation: |          | 0/? [00:00<?, ?it/s]"
      ]
     },
     "metadata": {},
     "output_type": "display_data"
    },
    {
     "data": {
      "application/vnd.jupyter.widget-view+json": {
       "model_id": "a674c22d952c48dc8377e4b320341641",
       "version_major": 2,
       "version_minor": 0
      },
      "text/plain": [
       "Validation: |          | 0/? [00:00<?, ?it/s]"
      ]
     },
     "metadata": {},
     "output_type": "display_data"
    },
    {
     "data": {
      "application/vnd.jupyter.widget-view+json": {
       "model_id": "08bfc87688ec4625bc7a567b083d4242",
       "version_major": 2,
       "version_minor": 0
      },
      "text/plain": [
       "Validation: |          | 0/? [00:00<?, ?it/s]"
      ]
     },
     "metadata": {},
     "output_type": "display_data"
    },
    {
     "data": {
      "application/vnd.jupyter.widget-view+json": {
       "model_id": "e39244a7bbc7408094794a29bb1f9422",
       "version_major": 2,
       "version_minor": 0
      },
      "text/plain": [
       "Validation: |          | 0/? [00:00<?, ?it/s]"
      ]
     },
     "metadata": {},
     "output_type": "display_data"
    },
    {
     "name": "stderr",
     "output_type": "stream",
     "text": [
      "`Trainer.fit` stopped: `max_epochs=50` reached.\n"
     ]
    }
   ],
   "source": [
    "logger = TensorBoardLogger(f\"../../../../../logs/expert/no_preprocess/autoencoder/infiltration\", name=\"expert_tensorboard\")\n",
    "csv_logger = CSVLogger(f\"../../../../../logs/expert/no_preprocess/autoencoder/infiltration\", name=\"expert_csv\")\n",
    "lr_monitor = LearningRateMonitor(logging_interval='epoch')\n",
    "\n",
    "\n",
    "trainer = pl.Trainer(\n",
    "        max_epochs=50,\n",
    "        logger=[logger, csv_logger],\n",
    "        callbacks=[lr_monitor],\n",
    "        accelerator='gpu',\n",
    "        precision='64-true',\n",
    ")\n",
    "\n",
    "trainer.fit(expert_model, datamodule=datamodule)"
   ]
  }
 ],
 "metadata": {
  "kernelspec": {
   "display_name": "env",
   "language": "python",
   "name": "python3"
  },
  "language_info": {
   "codemirror_mode": {
    "name": "ipython",
    "version": 3
   },
   "file_extension": ".py",
   "mimetype": "text/x-python",
   "name": "python",
   "nbconvert_exporter": "python",
   "pygments_lexer": "ipython3",
   "version": "3.11.9"
  }
 },
 "nbformat": 4,
 "nbformat_minor": 2
}
