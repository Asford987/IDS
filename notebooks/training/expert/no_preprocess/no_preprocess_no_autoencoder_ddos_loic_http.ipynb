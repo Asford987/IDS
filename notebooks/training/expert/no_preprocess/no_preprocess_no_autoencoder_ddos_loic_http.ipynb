{
 "cells": [
  {
   "cell_type": "code",
   "execution_count": 1,
   "metadata": {},
   "outputs": [],
   "source": [
    "import warnings\n",
    "import sys\n",
    "sys.path.append('../../../../')\n",
    "warnings.filterwarnings(\"ignore\")\n",
    "import os\n",
    "os.environ['TF_CPP_MIN_LOG_LEVEL'] = '2'\n",
    "\n",
    "from models import *\n",
    "from pytorch_lightning.loggers import TensorBoardLogger, CSVLogger\n",
    "from pytorch_lightning.callbacks import LearningRateMonitor\n",
    "import pandas as pd\n",
    "from sklearn.model_selection import train_test_split"
   ]
  },
  {
   "cell_type": "code",
   "execution_count": 2,
   "metadata": {},
   "outputs": [
    {
     "data": {
      "text/html": [
       "<div>\n",
       "<style scoped>\n",
       "    .dataframe tbody tr th:only-of-type {\n",
       "        vertical-align: middle;\n",
       "    }\n",
       "\n",
       "    .dataframe tbody tr th {\n",
       "        vertical-align: top;\n",
       "    }\n",
       "\n",
       "    .dataframe thead th {\n",
       "        text-align: right;\n",
       "    }\n",
       "</style>\n",
       "<table border=\"1\" class=\"dataframe\">\n",
       "  <thead>\n",
       "    <tr style=\"text-align: right;\">\n",
       "      <th></th>\n",
       "      <th>Flow ID</th>\n",
       "      <th>Src IP</th>\n",
       "      <th>Src Port</th>\n",
       "      <th>Dst IP</th>\n",
       "      <th>Dst Port</th>\n",
       "      <th>Protocol</th>\n",
       "      <th>Timestamp</th>\n",
       "      <th>Flow Duration</th>\n",
       "      <th>Tot Fwd Pkts</th>\n",
       "      <th>Tot Bwd Pkts</th>\n",
       "      <th>...</th>\n",
       "      <th>Fwd Seg Size Min</th>\n",
       "      <th>Active Mean</th>\n",
       "      <th>Active Std</th>\n",
       "      <th>Active Max</th>\n",
       "      <th>Active Min</th>\n",
       "      <th>Idle Mean</th>\n",
       "      <th>Idle Std</th>\n",
       "      <th>Idle Max</th>\n",
       "      <th>Idle Min</th>\n",
       "      <th>Label</th>\n",
       "    </tr>\n",
       "  </thead>\n",
       "  <tbody>\n",
       "    <tr>\n",
       "      <th>0</th>\n",
       "      <td>NaN</td>\n",
       "      <td>NaN</td>\n",
       "      <td>45498</td>\n",
       "      <td>NaN</td>\n",
       "      <td>22</td>\n",
       "      <td>6</td>\n",
       "      <td>1519115647</td>\n",
       "      <td>888751</td>\n",
       "      <td>11</td>\n",
       "      <td>11</td>\n",
       "      <td>...</td>\n",
       "      <td>32</td>\n",
       "      <td>0.0</td>\n",
       "      <td>0.0</td>\n",
       "      <td>0.0</td>\n",
       "      <td>0.0</td>\n",
       "      <td>0.0</td>\n",
       "      <td>0.000000</td>\n",
       "      <td>0.0</td>\n",
       "      <td>0.0</td>\n",
       "      <td>Benign</td>\n",
       "    </tr>\n",
       "    <tr>\n",
       "      <th>1</th>\n",
       "      <td>NaN</td>\n",
       "      <td>NaN</td>\n",
       "      <td>0</td>\n",
       "      <td>NaN</td>\n",
       "      <td>0</td>\n",
       "      <td>0</td>\n",
       "      <td>1519115602</td>\n",
       "      <td>112642816</td>\n",
       "      <td>3</td>\n",
       "      <td>0</td>\n",
       "      <td>...</td>\n",
       "      <td>0</td>\n",
       "      <td>0.0</td>\n",
       "      <td>0.0</td>\n",
       "      <td>0.0</td>\n",
       "      <td>0.0</td>\n",
       "      <td>56300000.0</td>\n",
       "      <td>7.071068</td>\n",
       "      <td>56300000.0</td>\n",
       "      <td>56300000.0</td>\n",
       "      <td>Benign</td>\n",
       "    </tr>\n",
       "    <tr>\n",
       "      <th>2</th>\n",
       "      <td>NaN</td>\n",
       "      <td>NaN</td>\n",
       "      <td>0</td>\n",
       "      <td>NaN</td>\n",
       "      <td>0</td>\n",
       "      <td>0</td>\n",
       "      <td>1519115771</td>\n",
       "      <td>112642712</td>\n",
       "      <td>3</td>\n",
       "      <td>0</td>\n",
       "      <td>...</td>\n",
       "      <td>0</td>\n",
       "      <td>0.0</td>\n",
       "      <td>0.0</td>\n",
       "      <td>0.0</td>\n",
       "      <td>0.0</td>\n",
       "      <td>56300000.0</td>\n",
       "      <td>18.384777</td>\n",
       "      <td>56300000.0</td>\n",
       "      <td>56300000.0</td>\n",
       "      <td>Benign</td>\n",
       "    </tr>\n",
       "    <tr>\n",
       "      <th>3</th>\n",
       "      <td>NaN</td>\n",
       "      <td>NaN</td>\n",
       "      <td>0</td>\n",
       "      <td>NaN</td>\n",
       "      <td>0</td>\n",
       "      <td>0</td>\n",
       "      <td>1519115940</td>\n",
       "      <td>112642648</td>\n",
       "      <td>3</td>\n",
       "      <td>0</td>\n",
       "      <td>...</td>\n",
       "      <td>0</td>\n",
       "      <td>0.0</td>\n",
       "      <td>0.0</td>\n",
       "      <td>0.0</td>\n",
       "      <td>0.0</td>\n",
       "      <td>56300000.0</td>\n",
       "      <td>5.656854</td>\n",
       "      <td>56300000.0</td>\n",
       "      <td>56300000.0</td>\n",
       "      <td>Benign</td>\n",
       "    </tr>\n",
       "    <tr>\n",
       "      <th>4</th>\n",
       "      <td>NaN</td>\n",
       "      <td>NaN</td>\n",
       "      <td>0</td>\n",
       "      <td>NaN</td>\n",
       "      <td>0</td>\n",
       "      <td>0</td>\n",
       "      <td>1519116109</td>\n",
       "      <td>112642702</td>\n",
       "      <td>3</td>\n",
       "      <td>0</td>\n",
       "      <td>...</td>\n",
       "      <td>0</td>\n",
       "      <td>0.0</td>\n",
       "      <td>0.0</td>\n",
       "      <td>0.0</td>\n",
       "      <td>0.0</td>\n",
       "      <td>56300000.0</td>\n",
       "      <td>65.053825</td>\n",
       "      <td>56300000.0</td>\n",
       "      <td>56300000.0</td>\n",
       "      <td>Benign</td>\n",
       "    </tr>\n",
       "  </tbody>\n",
       "</table>\n",
       "<p>5 rows × 84 columns</p>\n",
       "</div>"
      ],
      "text/plain": [
       "   Flow ID  Src IP  Src Port  Dst IP  Dst Port  Protocol   Timestamp  \\\n",
       "0      NaN     NaN     45498     NaN        22         6  1519115647   \n",
       "1      NaN     NaN         0     NaN         0         0  1519115602   \n",
       "2      NaN     NaN         0     NaN         0         0  1519115771   \n",
       "3      NaN     NaN         0     NaN         0         0  1519115940   \n",
       "4      NaN     NaN         0     NaN         0         0  1519116109   \n",
       "\n",
       "   Flow Duration  Tot Fwd Pkts  Tot Bwd Pkts  ...  Fwd Seg Size Min  \\\n",
       "0         888751            11            11  ...                32   \n",
       "1      112642816             3             0  ...                 0   \n",
       "2      112642712             3             0  ...                 0   \n",
       "3      112642648             3             0  ...                 0   \n",
       "4      112642702             3             0  ...                 0   \n",
       "\n",
       "   Active Mean  Active Std  Active Max  Active Min   Idle Mean   Idle Std  \\\n",
       "0          0.0         0.0         0.0         0.0         0.0   0.000000   \n",
       "1          0.0         0.0         0.0         0.0  56300000.0   7.071068   \n",
       "2          0.0         0.0         0.0         0.0  56300000.0  18.384777   \n",
       "3          0.0         0.0         0.0         0.0  56300000.0   5.656854   \n",
       "4          0.0         0.0         0.0         0.0  56300000.0  65.053825   \n",
       "\n",
       "     Idle Max    Idle Min   Label  \n",
       "0         0.0         0.0  Benign  \n",
       "1  56300000.0  56300000.0  Benign  \n",
       "2  56300000.0  56300000.0  Benign  \n",
       "3  56300000.0  56300000.0  Benign  \n",
       "4  56300000.0  56300000.0  Benign  \n",
       "\n",
       "[5 rows x 84 columns]"
      ]
     },
     "execution_count": 2,
     "metadata": {},
     "output_type": "execute_result"
    }
   ],
   "source": [
    "data_path = '../../../../data/CIC_2018/no_preprocess/df_equal_DDoS attacks-LOIC-HTTP.parquet'\n",
    "df = pd.read_parquet(data_path)\n",
    "df.head()"
   ]
  },
  {
   "cell_type": "code",
   "execution_count": 3,
   "metadata": {},
   "outputs": [],
   "source": [
    "df.drop(['Flow ID', 'Src IP', 'Dst IP'], axis=1, inplace=True)"
   ]
  },
  {
   "cell_type": "code",
   "execution_count": 4,
   "metadata": {},
   "outputs": [
    {
     "data": {
      "text/plain": [
       "0"
      ]
     },
     "execution_count": 4,
     "metadata": {},
     "output_type": "execute_result"
    }
   ],
   "source": [
    "df['Label'].isna().sum()"
   ]
  },
  {
   "cell_type": "code",
   "execution_count": 5,
   "metadata": {},
   "outputs": [
    {
     "name": "stdout",
     "output_type": "stream",
     "text": [
      "Number of infinite values in the dataframe: 82139\n",
      "Number of infinite values in the dataframe: 0\n"
     ]
    }
   ],
   "source": [
    "import numpy as np\n",
    "\n",
    "infinite_values = df.isin([np.inf, -np.inf]).sum().sum()\n",
    "print(f\"Number of infinite values in the dataframe: {infinite_values}\")\n",
    "\n",
    "df.replace([np.inf, -np.inf], np.nan, inplace=True)\n",
    "df.dropna(inplace=True)\n",
    "\n",
    "infinite_values = df.isin([np.inf, -np.inf]).sum().sum()\n",
    "print(f\"Number of infinite values in the dataframe: {infinite_values}\")\n"
   ]
  },
  {
   "cell_type": "code",
   "execution_count": 6,
   "metadata": {},
   "outputs": [
    {
     "data": {
      "text/plain": [
       "Label\n",
       "Benign                    7313104\n",
       "DDoS attacks-LOIC-HTTP     576191\n",
       "Name: count, dtype: int64"
      ]
     },
     "execution_count": 6,
     "metadata": {},
     "output_type": "execute_result"
    }
   ],
   "source": [
    "df['Label'].value_counts()"
   ]
  },
  {
   "cell_type": "code",
   "execution_count": 7,
   "metadata": {},
   "outputs": [],
   "source": [
    "df = df.drop(index=df.loc[df['Label'] == 'Label'].index)"
   ]
  },
  {
   "cell_type": "code",
   "execution_count": 8,
   "metadata": {},
   "outputs": [],
   "source": [
    "df = df.dropna()"
   ]
  },
  {
   "cell_type": "code",
   "execution_count": 9,
   "metadata": {},
   "outputs": [],
   "source": [
    "X = df.drop('Label', axis=1)\n",
    "y = df['Label']\n",
    "y = y.map({'Benign': 0, 'DDoS attacks-LOIC-HTTP': 1})\n",
    "X_train, X_test, y_train, y_test = train_test_split(X, y,test_size=0.2, stratify=y)"
   ]
  },
  {
   "cell_type": "code",
   "execution_count": 10,
   "metadata": {},
   "outputs": [
    {
     "data": {
      "text/plain": [
       "80"
      ]
     },
     "execution_count": 10,
     "metadata": {},
     "output_type": "execute_result"
    }
   ],
   "source": [
    "import gc\n",
    "del X, y, df\n",
    "gc.collect()"
   ]
  },
  {
   "cell_type": "code",
   "execution_count": 11,
   "metadata": {},
   "outputs": [],
   "source": [
    "df_train = pd.concat([X_train, y_train], axis=1)\n",
    "df_test = pd.concat([X_test, y_test], axis=1)"
   ]
  },
  {
   "cell_type": "code",
   "execution_count": 12,
   "metadata": {},
   "outputs": [
    {
     "data": {
      "text/plain": [
       "0"
      ]
     },
     "execution_count": 12,
     "metadata": {},
     "output_type": "execute_result"
    }
   ],
   "source": [
    "df_train.isna().sum().sum()"
   ]
  },
  {
   "cell_type": "code",
   "execution_count": 13,
   "metadata": {},
   "outputs": [
    {
     "data": {
      "text/plain": [
       "0"
      ]
     },
     "execution_count": 13,
     "metadata": {},
     "output_type": "execute_result"
    }
   ],
   "source": [
    "df_test.isna().sum().sum()"
   ]
  },
  {
   "cell_type": "code",
   "execution_count": 14,
   "metadata": {},
   "outputs": [
    {
     "data": {
      "text/plain": [
       "Label\n",
       "0    5850483\n",
       "1     460953\n",
       "Name: count, dtype: int64"
      ]
     },
     "execution_count": 14,
     "metadata": {},
     "output_type": "execute_result"
    }
   ],
   "source": [
    "df_train['Label'].value_counts()"
   ]
  },
  {
   "cell_type": "code",
   "execution_count": 15,
   "metadata": {},
   "outputs": [
    {
     "name": "stdout",
     "output_type": "stream",
     "text": [
      "<class 'pandas.core.frame.DataFrame'>\n",
      "Index: 6311436 entries, 3555049 to 4557639\n",
      "Data columns (total 81 columns):\n",
      " #   Column             Dtype   \n",
      "---  ------             -----   \n",
      " 0   Src Port           int32   \n",
      " 1   Dst Port           int32   \n",
      " 2   Protocol           int8    \n",
      " 3   Timestamp          int32   \n",
      " 4   Flow Duration      int32   \n",
      " 5   Tot Fwd Pkts       int32   \n",
      " 6   Tot Bwd Pkts       int16   \n",
      " 7   TotLen Fwd Pkts    float32 \n",
      " 8   TotLen Bwd Pkts    float32 \n",
      " 9   Fwd Pkt Len Max    float16 \n",
      " 10  Fwd Pkt Len Min    float16 \n",
      " 11  Fwd Pkt Len Mean   float16 \n",
      " 12  Fwd Pkt Len Std    float16 \n",
      " 13  Bwd Pkt Len Max    float16 \n",
      " 14  Bwd Pkt Len Min    float16 \n",
      " 15  Bwd Pkt Len Mean   float16 \n",
      " 16  Bwd Pkt Len Std    float16 \n",
      " 17  Flow Byts/s        float64 \n",
      " 18  Flow Pkts/s        float64 \n",
      " 19  Flow IAT Mean      float32 \n",
      " 20  Flow IAT Std       float32 \n",
      " 21  Flow IAT Max       float32 \n",
      " 22  Flow IAT Min       float32 \n",
      " 23  Fwd IAT Tot        float32 \n",
      " 24  Fwd IAT Mean       float32 \n",
      " 25  Fwd IAT Std        float32 \n",
      " 26  Fwd IAT Max        float32 \n",
      " 27  Fwd IAT Min        float32 \n",
      " 28  Bwd IAT Tot        float32 \n",
      " 29  Bwd IAT Mean       float32 \n",
      " 30  Bwd IAT Std        float32 \n",
      " 31  Bwd IAT Max        float32 \n",
      " 32  Bwd IAT Min        float32 \n",
      " 33  Fwd PSH Flags      int8    \n",
      " 34  Bwd PSH Flags      int8    \n",
      " 35  Fwd URG Flags      int8    \n",
      " 36  Bwd URG Flags      int8    \n",
      " 37  Fwd Header Len     int32   \n",
      " 38  Bwd Header Len     int32   \n",
      " 39  Fwd Pkts/s         float32 \n",
      " 40  Bwd Pkts/s         float32 \n",
      " 41  Pkt Len Min        float16 \n",
      " 42  Pkt Len Max        float16 \n",
      " 43  Pkt Len Mean       float16 \n",
      " 44  Pkt Len Std        float16 \n",
      " 45  Pkt Len Var        float32 \n",
      " 46  FIN Flag Cnt       int8    \n",
      " 47  SYN Flag Cnt       int8    \n",
      " 48  RST Flag Cnt       int8    \n",
      " 49  PSH Flag Cnt       int8    \n",
      " 50  ACK Flag Cnt       int8    \n",
      " 51  URG Flag Cnt       int8    \n",
      " 52  CWE Flag Count     int8    \n",
      " 53  ECE Flag Cnt       int8    \n",
      " 54  Down/Up Ratio      float16 \n",
      " 55  Pkt Size Avg       float16 \n",
      " 56  Fwd Seg Size Avg   float16 \n",
      " 57  Bwd Seg Size Avg   float16 \n",
      " 58  Fwd Byts/b Avg     int8    \n",
      " 59  Fwd Pkts/b Avg     int8    \n",
      " 60  Fwd Blk Rate Avg   int8    \n",
      " 61  Bwd Byts/b Avg     int8    \n",
      " 62  Bwd Pkts/b Avg     int8    \n",
      " 63  Bwd Blk Rate Avg   int8    \n",
      " 64  Subflow Fwd Pkts   int32   \n",
      " 65  Subflow Fwd Byts   int32   \n",
      " 66  Subflow Bwd Pkts   int16   \n",
      " 67  Subflow Bwd Byts   int32   \n",
      " 68  Init Fwd Win Byts  int32   \n",
      " 69  Init Bwd Win Byts  int32   \n",
      " 70  Fwd Act Data Pkts  int32   \n",
      " 71  Fwd Seg Size Min   int8    \n",
      " 72  Active Mean        float32 \n",
      " 73  Active Std         float32 \n",
      " 74  Active Max         float32 \n",
      " 75  Active Min         float32 \n",
      " 76  Idle Mean          float32 \n",
      " 77  Idle Std           float32 \n",
      " 78  Idle Max           float32 \n",
      " 79  Idle Min           float32 \n",
      " 80  Label              category\n",
      "dtypes: category(1), float16(16), float32(27), float64(2), int16(2), int32(13), int8(20)\n",
      "memory usage: 1.4 GB\n",
      "<class 'pandas.core.frame.DataFrame'>\n",
      "Index: 1577859 entries, 5776428 to 3702404\n",
      "Data columns (total 81 columns):\n",
      " #   Column             Non-Null Count    Dtype   \n",
      "---  ------             --------------    -----   \n",
      " 0   Src Port           1577859 non-null  int32   \n",
      " 1   Dst Port           1577859 non-null  int32   \n",
      " 2   Protocol           1577859 non-null  int8    \n",
      " 3   Timestamp          1577859 non-null  int32   \n",
      " 4   Flow Duration      1577859 non-null  int32   \n",
      " 5   Tot Fwd Pkts       1577859 non-null  int32   \n",
      " 6   Tot Bwd Pkts       1577859 non-null  int16   \n",
      " 7   TotLen Fwd Pkts    1577859 non-null  float32 \n",
      " 8   TotLen Bwd Pkts    1577859 non-null  float32 \n",
      " 9   Fwd Pkt Len Max    1577859 non-null  float16 \n",
      " 10  Fwd Pkt Len Min    1577859 non-null  float16 \n",
      " 11  Fwd Pkt Len Mean   1577859 non-null  float16 \n",
      " 12  Fwd Pkt Len Std    1577859 non-null  float16 \n",
      " 13  Bwd Pkt Len Max    1577859 non-null  float16 \n",
      " 14  Bwd Pkt Len Min    1577859 non-null  float16 \n",
      " 15  Bwd Pkt Len Mean   1577859 non-null  float16 \n",
      " 16  Bwd Pkt Len Std    1577859 non-null  float16 \n",
      " 17  Flow Byts/s        1577859 non-null  float64 \n",
      " 18  Flow Pkts/s        1577859 non-null  float64 \n",
      " 19  Flow IAT Mean      1577859 non-null  float32 \n",
      " 20  Flow IAT Std       1577859 non-null  float32 \n",
      " 21  Flow IAT Max       1577859 non-null  float32 \n",
      " 22  Flow IAT Min       1577859 non-null  float32 \n",
      " 23  Fwd IAT Tot        1577859 non-null  float32 \n",
      " 24  Fwd IAT Mean       1577859 non-null  float32 \n",
      " 25  Fwd IAT Std        1577859 non-null  float32 \n",
      " 26  Fwd IAT Max        1577859 non-null  float32 \n",
      " 27  Fwd IAT Min        1577859 non-null  float32 \n",
      " 28  Bwd IAT Tot        1577859 non-null  float32 \n",
      " 29  Bwd IAT Mean       1577859 non-null  float32 \n",
      " 30  Bwd IAT Std        1577859 non-null  float32 \n",
      " 31  Bwd IAT Max        1577859 non-null  float32 \n",
      " 32  Bwd IAT Min        1577859 non-null  float32 \n",
      " 33  Fwd PSH Flags      1577859 non-null  int8    \n",
      " 34  Bwd PSH Flags      1577859 non-null  int8    \n",
      " 35  Fwd URG Flags      1577859 non-null  int8    \n",
      " 36  Bwd URG Flags      1577859 non-null  int8    \n",
      " 37  Fwd Header Len     1577859 non-null  int32   \n",
      " 38  Bwd Header Len     1577859 non-null  int32   \n",
      " 39  Fwd Pkts/s         1577859 non-null  float32 \n",
      " 40  Bwd Pkts/s         1577859 non-null  float32 \n",
      " 41  Pkt Len Min        1577859 non-null  float16 \n",
      " 42  Pkt Len Max        1577859 non-null  float16 \n",
      " 43  Pkt Len Mean       1577859 non-null  float16 \n",
      " 44  Pkt Len Std        1577859 non-null  float16 \n",
      " 45  Pkt Len Var        1577859 non-null  float32 \n",
      " 46  FIN Flag Cnt       1577859 non-null  int8    \n",
      " 47  SYN Flag Cnt       1577859 non-null  int8    \n",
      " 48  RST Flag Cnt       1577859 non-null  int8    \n",
      " 49  PSH Flag Cnt       1577859 non-null  int8    \n",
      " 50  ACK Flag Cnt       1577859 non-null  int8    \n",
      " 51  URG Flag Cnt       1577859 non-null  int8    \n",
      " 52  CWE Flag Count     1577859 non-null  int8    \n",
      " 53  ECE Flag Cnt       1577859 non-null  int8    \n",
      " 54  Down/Up Ratio      1577859 non-null  float16 \n",
      " 55  Pkt Size Avg       1577859 non-null  float16 \n",
      " 56  Fwd Seg Size Avg   1577859 non-null  float16 \n",
      " 57  Bwd Seg Size Avg   1577859 non-null  float16 \n",
      " 58  Fwd Byts/b Avg     1577859 non-null  int8    \n",
      " 59  Fwd Pkts/b Avg     1577859 non-null  int8    \n",
      " 60  Fwd Blk Rate Avg   1577859 non-null  int8    \n",
      " 61  Bwd Byts/b Avg     1577859 non-null  int8    \n",
      " 62  Bwd Pkts/b Avg     1577859 non-null  int8    \n",
      " 63  Bwd Blk Rate Avg   1577859 non-null  int8    \n",
      " 64  Subflow Fwd Pkts   1577859 non-null  int32   \n",
      " 65  Subflow Fwd Byts   1577859 non-null  int32   \n",
      " 66  Subflow Bwd Pkts   1577859 non-null  int16   \n",
      " 67  Subflow Bwd Byts   1577859 non-null  int32   \n",
      " 68  Init Fwd Win Byts  1577859 non-null  int32   \n",
      " 69  Init Bwd Win Byts  1577859 non-null  int32   \n",
      " 70  Fwd Act Data Pkts  1577859 non-null  int32   \n",
      " 71  Fwd Seg Size Min   1577859 non-null  int8    \n",
      " 72  Active Mean        1577859 non-null  float32 \n",
      " 73  Active Std         1577859 non-null  float32 \n",
      " 74  Active Max         1577859 non-null  float32 \n",
      " 75  Active Min         1577859 non-null  float32 \n",
      " 76  Idle Mean          1577859 non-null  float32 \n",
      " 77  Idle Std           1577859 non-null  float32 \n",
      " 78  Idle Max           1577859 non-null  float32 \n",
      " 79  Idle Min           1577859 non-null  float32 \n",
      " 80  Label              1577859 non-null  category\n",
      "dtypes: category(1), float16(16), float32(27), float64(2), int16(2), int32(13), int8(20)\n",
      "memory usage: 362.6 MB\n"
     ]
    }
   ],
   "source": [
    "df_train.info()\n",
    "df_test.info()"
   ]
  },
  {
   "cell_type": "code",
   "execution_count": 16,
   "metadata": {},
   "outputs": [
    {
     "data": {
      "text/plain": [
       "Label\n",
       "0    1462621\n",
       "1     115238\n",
       "Name: count, dtype: int64"
      ]
     },
     "execution_count": 16,
     "metadata": {},
     "output_type": "execute_result"
    }
   ],
   "source": [
    "df_test['Label'].value_counts()"
   ]
  },
  {
   "cell_type": "code",
   "execution_count": 17,
   "metadata": {},
   "outputs": [],
   "source": [
    "datamodule = ExpertPretrainDataModule(df_train, df_test, binarize_on_label=1)"
   ]
  },
  {
   "cell_type": "code",
   "execution_count": 18,
   "metadata": {},
   "outputs": [
    {
     "name": "stdout",
     "output_type": "stream",
     "text": [
      "ExpertModel(\n",
      "  (model): Sequential(\n",
      "    (0): BatchNorm1d(79, eps=1e-05, momentum=0.1, affine=True, track_running_stats=True)\n",
      "    (1): Linear(in_features=79, out_features=256, bias=True)\n",
      "    (2): LeakyReLU(negative_slope=0.01)\n",
      "    (3): BatchNorm1d(256, eps=1e-05, momentum=0.1, affine=True, track_running_stats=True)\n",
      "    (4): Linear(in_features=256, out_features=128, bias=True)\n",
      "    (5): LeakyReLU(negative_slope=0.01)\n",
      "    (6): Linear(in_features=128, out_features=1, bias=True)\n",
      "  )\n",
      ")\n"
     ]
    }
   ],
   "source": [
    "expert_model = ExpertModel(79, [256, 128])\n",
    "print(expert_model)"
   ]
  },
  {
   "cell_type": "code",
   "execution_count": null,
   "metadata": {},
   "outputs": [
    {
     "name": "stderr",
     "output_type": "stream",
     "text": [
      "GPU available: True (cuda), used: True\n",
      "TPU available: False, using: 0 TPU cores\n",
      "HPU available: False, using: 0 HPUs\n",
      "You are using a CUDA device ('NVIDIA GeForce RTX 3060 Laptop GPU') that has Tensor Cores. To properly utilize them, you should set `torch.set_float32_matmul_precision('medium' | 'high')` which will trade-off precision for performance. For more details, read https://pytorch.org/docs/stable/generated/torch.set_float32_matmul_precision.html#torch.set_float32_matmul_precision\n",
      "2024-10-05 22:07:10.903195: E external/local_xla/xla/stream_executor/cuda/cuda_fft.cc:485] Unable to register cuFFT factory: Attempting to register factory for plugin cuFFT when one has already been registered\n",
      "2024-10-05 22:07:10.937901: E external/local_xla/xla/stream_executor/cuda/cuda_dnn.cc:8454] Unable to register cuDNN factory: Attempting to register factory for plugin cuDNN when one has already been registered\n",
      "2024-10-05 22:07:10.947680: E external/local_xla/xla/stream_executor/cuda/cuda_blas.cc:1452] Unable to register cuBLAS factory: Attempting to register factory for plugin cuBLAS when one has already been registered\n"
     ]
    }
   ],
   "source": [
    "logger = TensorBoardLogger(f\"../../../../logs/expert/no_preprocess_no_autoencoder_loic_http\", name=\"expert_tensorboard\")\n",
    "csv_logger = CSVLogger(f\"../../../../logs/expert/no_preprocess_no_autoencoder_loic_http\", name=\"expert_csv\")\n",
    "lr_monitor = LearningRateMonitor(logging_interval='epoch')\n",
    "\n",
    "\n",
    "trainer = pl.Trainer(\n",
    "        max_epochs=2,\n",
    "        logger=[logger, csv_logger],\n",
    "        callbacks=[lr_monitor],\n",
    "        accelerator='gpu',\n",
    "        precision='64-true',\n",
    ")\n",
    "\n",
    "trainer.fit(expert_model, datamodule=datamodule)"
   ]
  }
 ],
 "metadata": {
  "kernelspec": {
   "display_name": "env",
   "language": "python",
   "name": "python3"
  },
  "language_info": {
   "codemirror_mode": {
    "name": "ipython",
    "version": 3
   },
   "file_extension": ".py",
   "mimetype": "text/x-python",
   "name": "python",
   "nbconvert_exporter": "python",
   "pygments_lexer": "ipython3",
   "version": "3.11.9"
  }
 },
 "nbformat": 4,
 "nbformat_minor": 2
}
