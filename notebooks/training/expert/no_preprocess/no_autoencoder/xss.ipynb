{
 "cells": [
  {
   "cell_type": "code",
   "execution_count": 1,
   "metadata": {},
   "outputs": [],
   "source": [
    "import warnings\n",
    "import sys\n",
    "sys.path.append('../../../../..')\n",
    "warnings.filterwarnings(\"ignore\")\n",
    "import os\n",
    "os.environ['TF_CPP_MIN_LOG_LEVEL'] = '2'\n",
    "\n",
    "from models import *\n",
    "from pytorch_lightning.loggers import TensorBoardLogger, CSVLogger\n",
    "from pytorch_lightning.callbacks import LearningRateMonitor\n",
    "import pandas as pd\n",
    "from sklearn.model_selection import train_test_split"
   ]
  },
  {
   "cell_type": "code",
   "execution_count": 2,
   "metadata": {},
   "outputs": [
    {
     "data": {
      "text/html": [
       "<div>\n",
       "<style scoped>\n",
       "    .dataframe tbody tr th:only-of-type {\n",
       "        vertical-align: middle;\n",
       "    }\n",
       "\n",
       "    .dataframe tbody tr th {\n",
       "        vertical-align: top;\n",
       "    }\n",
       "\n",
       "    .dataframe thead th {\n",
       "        text-align: right;\n",
       "    }\n",
       "</style>\n",
       "<table border=\"1\" class=\"dataframe\">\n",
       "  <thead>\n",
       "    <tr style=\"text-align: right;\">\n",
       "      <th></th>\n",
       "      <th>Dst Port</th>\n",
       "      <th>Protocol</th>\n",
       "      <th>Timestamp</th>\n",
       "      <th>Flow Duration</th>\n",
       "      <th>Tot Fwd Pkts</th>\n",
       "      <th>Tot Bwd Pkts</th>\n",
       "      <th>TotLen Fwd Pkts</th>\n",
       "      <th>TotLen Bwd Pkts</th>\n",
       "      <th>Fwd Pkt Len Max</th>\n",
       "      <th>Fwd Pkt Len Min</th>\n",
       "      <th>...</th>\n",
       "      <th>Fwd Seg Size Min</th>\n",
       "      <th>Active Mean</th>\n",
       "      <th>Active Std</th>\n",
       "      <th>Active Max</th>\n",
       "      <th>Active Min</th>\n",
       "      <th>Idle Mean</th>\n",
       "      <th>Idle Std</th>\n",
       "      <th>Idle Max</th>\n",
       "      <th>Idle Min</th>\n",
       "      <th>Label</th>\n",
       "    </tr>\n",
       "  </thead>\n",
       "  <tbody>\n",
       "    <tr>\n",
       "      <th>0</th>\n",
       "      <td>22</td>\n",
       "      <td>6</td>\n",
       "      <td>1519373909</td>\n",
       "      <td>1532698</td>\n",
       "      <td>11</td>\n",
       "      <td>11</td>\n",
       "      <td>1179</td>\n",
       "      <td>1969</td>\n",
       "      <td>648</td>\n",
       "      <td>0</td>\n",
       "      <td>...</td>\n",
       "      <td>32</td>\n",
       "      <td>0.0</td>\n",
       "      <td>0.0</td>\n",
       "      <td>0</td>\n",
       "      <td>0</td>\n",
       "      <td>0.0</td>\n",
       "      <td>0.0</td>\n",
       "      <td>0</td>\n",
       "      <td>0</td>\n",
       "      <td>Benign</td>\n",
       "    </tr>\n",
       "    <tr>\n",
       "      <th>1</th>\n",
       "      <td>500</td>\n",
       "      <td>17</td>\n",
       "      <td>1519373865</td>\n",
       "      <td>117573855</td>\n",
       "      <td>3</td>\n",
       "      <td>0</td>\n",
       "      <td>1500</td>\n",
       "      <td>0</td>\n",
       "      <td>500</td>\n",
       "      <td>500</td>\n",
       "      <td>...</td>\n",
       "      <td>8</td>\n",
       "      <td>0.0</td>\n",
       "      <td>0.0</td>\n",
       "      <td>0</td>\n",
       "      <td>0</td>\n",
       "      <td>58786928.0</td>\n",
       "      <td>23753242.0</td>\n",
       "      <td>75583006</td>\n",
       "      <td>41990849</td>\n",
       "      <td>Benign</td>\n",
       "    </tr>\n",
       "    <tr>\n",
       "      <th>2</th>\n",
       "      <td>500</td>\n",
       "      <td>17</td>\n",
       "      <td>1519373865</td>\n",
       "      <td>117573848</td>\n",
       "      <td>3</td>\n",
       "      <td>0</td>\n",
       "      <td>1500</td>\n",
       "      <td>0</td>\n",
       "      <td>500</td>\n",
       "      <td>500</td>\n",
       "      <td>...</td>\n",
       "      <td>8</td>\n",
       "      <td>0.0</td>\n",
       "      <td>0.0</td>\n",
       "      <td>0</td>\n",
       "      <td>0</td>\n",
       "      <td>58786924.0</td>\n",
       "      <td>23753248.0</td>\n",
       "      <td>75583007</td>\n",
       "      <td>41990841</td>\n",
       "      <td>Benign</td>\n",
       "    </tr>\n",
       "    <tr>\n",
       "      <th>3</th>\n",
       "      <td>22</td>\n",
       "      <td>6</td>\n",
       "      <td>1519373995</td>\n",
       "      <td>1745392</td>\n",
       "      <td>11</td>\n",
       "      <td>11</td>\n",
       "      <td>1179</td>\n",
       "      <td>1969</td>\n",
       "      <td>648</td>\n",
       "      <td>0</td>\n",
       "      <td>...</td>\n",
       "      <td>32</td>\n",
       "      <td>0.0</td>\n",
       "      <td>0.0</td>\n",
       "      <td>0</td>\n",
       "      <td>0</td>\n",
       "      <td>0.0</td>\n",
       "      <td>0.0</td>\n",
       "      <td>0</td>\n",
       "      <td>0</td>\n",
       "      <td>Benign</td>\n",
       "    </tr>\n",
       "    <tr>\n",
       "      <th>4</th>\n",
       "      <td>500</td>\n",
       "      <td>17</td>\n",
       "      <td>1519373897</td>\n",
       "      <td>89483474</td>\n",
       "      <td>6</td>\n",
       "      <td>0</td>\n",
       "      <td>3000</td>\n",
       "      <td>0</td>\n",
       "      <td>500</td>\n",
       "      <td>500</td>\n",
       "      <td>...</td>\n",
       "      <td>8</td>\n",
       "      <td>4000364.0</td>\n",
       "      <td>0.0</td>\n",
       "      <td>4000364</td>\n",
       "      <td>4000364</td>\n",
       "      <td>21370778.0</td>\n",
       "      <td>15280917.0</td>\n",
       "      <td>41989576</td>\n",
       "      <td>7200485</td>\n",
       "      <td>Benign</td>\n",
       "    </tr>\n",
       "  </tbody>\n",
       "</table>\n",
       "<p>5 rows × 80 columns</p>\n",
       "</div>"
      ],
      "text/plain": [
       "   Dst Port  Protocol   Timestamp  Flow Duration  Tot Fwd Pkts  Tot Bwd Pkts  \\\n",
       "0        22         6  1519373909        1532698            11            11   \n",
       "1       500        17  1519373865      117573855             3             0   \n",
       "2       500        17  1519373865      117573848             3             0   \n",
       "3        22         6  1519373995        1745392            11            11   \n",
       "4       500        17  1519373897       89483474             6             0   \n",
       "\n",
       "   TotLen Fwd Pkts  TotLen Bwd Pkts  Fwd Pkt Len Max  Fwd Pkt Len Min  ...  \\\n",
       "0             1179             1969              648                0  ...   \n",
       "1             1500                0              500              500  ...   \n",
       "2             1500                0              500              500  ...   \n",
       "3             1179             1969              648                0  ...   \n",
       "4             3000                0              500              500  ...   \n",
       "\n",
       "   Fwd Seg Size Min  Active Mean  Active Std  Active Max  Active Min  \\\n",
       "0                32          0.0         0.0           0           0   \n",
       "1                 8          0.0         0.0           0           0   \n",
       "2                 8          0.0         0.0           0           0   \n",
       "3                32          0.0         0.0           0           0   \n",
       "4                 8    4000364.0         0.0     4000364     4000364   \n",
       "\n",
       "    Idle Mean    Idle Std  Idle Max  Idle Min   Label  \n",
       "0         0.0         0.0         0         0  Benign  \n",
       "1  58786928.0  23753242.0  75583006  41990849  Benign  \n",
       "2  58786924.0  23753248.0  75583007  41990841  Benign  \n",
       "3         0.0         0.0         0         0  Benign  \n",
       "4  21370778.0  15280917.0  41989576   7200485  Benign  \n",
       "\n",
       "[5 rows x 80 columns]"
      ]
     },
     "execution_count": 2,
     "metadata": {},
     "output_type": "execute_result"
    }
   ],
   "source": [
    "data_path = '../../../../../data/CIC_2018/no_preprocess/df_BruteForce_Web_XSS.parquet'\n",
    "df = pd.read_parquet(data_path)\n",
    "df.head()"
   ]
  },
  {
   "cell_type": "code",
   "execution_count": 3,
   "metadata": {},
   "outputs": [
    {
     "data": {
      "text/plain": [
       "0"
      ]
     },
     "execution_count": 3,
     "metadata": {},
     "output_type": "execute_result"
    }
   ],
   "source": [
    "df['Label'].isna().sum()"
   ]
  },
  {
   "cell_type": "code",
   "execution_count": 4,
   "metadata": {},
   "outputs": [
    {
     "name": "stdout",
     "output_type": "stream",
     "text": [
      "Number of infinite values in the dataframe: 15313\n",
      "Number of infinite values in the dataframe: 0\n"
     ]
    }
   ],
   "source": [
    "import numpy as np\n",
    "\n",
    "infinite_values = df.isin([np.inf, -np.inf]).sum().sum()\n",
    "print(f\"Number of infinite values in the dataframe: {infinite_values}\")\n",
    "\n",
    "df.replace([np.inf, -np.inf], np.nan, inplace=True)\n",
    "df.dropna(inplace=True)\n",
    "\n",
    "infinite_values = df.isin([np.inf, -np.inf]).sum().sum()\n",
    "print(f\"Number of infinite values in the dataframe: {infinite_values}\")\n"
   ]
  },
  {
   "cell_type": "code",
   "execution_count": 5,
   "metadata": {},
   "outputs": [
    {
     "data": {
      "text/plain": [
       "Label\n",
       "Benign    2084904\n",
       "Attack        928\n",
       "Name: count, dtype: int64"
      ]
     },
     "execution_count": 5,
     "metadata": {},
     "output_type": "execute_result"
    }
   ],
   "source": [
    "df['Label'].value_counts()"
   ]
  },
  {
   "cell_type": "code",
   "execution_count": 6,
   "metadata": {},
   "outputs": [],
   "source": [
    "df = df.drop(index=df.loc[df['Label'] == 'Label'].index)"
   ]
  },
  {
   "cell_type": "code",
   "execution_count": 7,
   "metadata": {},
   "outputs": [],
   "source": [
    "df = df.dropna()"
   ]
  },
  {
   "cell_type": "code",
   "execution_count": 8,
   "metadata": {},
   "outputs": [],
   "source": [
    "X = df.drop('Label', axis=1)\n",
    "y = df['Label']\n",
    "y = y.map({'Benign': 0, 'Attack': 1})\n",
    "X_train, X_test, y_train, y_test = train_test_split(X, y,test_size=0.2, stratify=y)"
   ]
  },
  {
   "cell_type": "code",
   "execution_count": 9,
   "metadata": {},
   "outputs": [],
   "source": [
    "df_train = pd.concat([X_train, y_train], axis=1)\n",
    "df_test = pd.concat([X_test, y_test], axis=1)"
   ]
  },
  {
   "cell_type": "code",
   "execution_count": 10,
   "metadata": {},
   "outputs": [
    {
     "data": {
      "text/plain": [
       "0"
      ]
     },
     "execution_count": 10,
     "metadata": {},
     "output_type": "execute_result"
    }
   ],
   "source": [
    "df_train.isna().sum().sum()"
   ]
  },
  {
   "cell_type": "code",
   "execution_count": 11,
   "metadata": {},
   "outputs": [
    {
     "data": {
      "text/plain": [
       "0"
      ]
     },
     "execution_count": 11,
     "metadata": {},
     "output_type": "execute_result"
    }
   ],
   "source": [
    "df_test.isna().sum().sum()"
   ]
  },
  {
   "cell_type": "code",
   "execution_count": 12,
   "metadata": {},
   "outputs": [
    {
     "data": {
      "text/plain": [
       "Label\n",
       "0    1667923\n",
       "1        742\n",
       "Name: count, dtype: int64"
      ]
     },
     "execution_count": 12,
     "metadata": {},
     "output_type": "execute_result"
    }
   ],
   "source": [
    "df_train['Label'].value_counts()"
   ]
  },
  {
   "cell_type": "code",
   "execution_count": 13,
   "metadata": {},
   "outputs": [
    {
     "name": "stdout",
     "output_type": "stream",
     "text": [
      "<class 'pandas.core.frame.DataFrame'>\n",
      "Index: 1668665 entries, 273305 to 1322576\n",
      "Data columns (total 80 columns):\n",
      " #   Column             Non-Null Count    Dtype  \n",
      "---  ------             --------------    -----  \n",
      " 0   Dst Port           1668665 non-null  int32  \n",
      " 1   Protocol           1668665 non-null  int8   \n",
      " 2   Timestamp          1668665 non-null  int32  \n",
      " 3   Flow Duration      1668665 non-null  int64  \n",
      " 4   Tot Fwd Pkts       1668665 non-null  int32  \n",
      " 5   Tot Bwd Pkts       1668665 non-null  int32  \n",
      " 6   TotLen Fwd Pkts    1668665 non-null  int32  \n",
      " 7   TotLen Bwd Pkts    1668665 non-null  int32  \n",
      " 8   Fwd Pkt Len Max    1668665 non-null  int16  \n",
      " 9   Fwd Pkt Len Min    1668665 non-null  int16  \n",
      " 10  Fwd Pkt Len Mean   1668665 non-null  float16\n",
      " 11  Fwd Pkt Len Std    1668665 non-null  float16\n",
      " 12  Bwd Pkt Len Max    1668665 non-null  int16  \n",
      " 13  Bwd Pkt Len Min    1668665 non-null  int16  \n",
      " 14  Bwd Pkt Len Mean   1668665 non-null  float16\n",
      " 15  Bwd Pkt Len Std    1668665 non-null  float16\n",
      " 16  Flow Byts/s        1668665 non-null  float64\n",
      " 17  Flow Pkts/s        1668665 non-null  float64\n",
      " 18  Flow IAT Mean      1668665 non-null  float32\n",
      " 19  Flow IAT Std       1668665 non-null  float32\n",
      " 20  Flow IAT Max       1668665 non-null  int64  \n",
      " 21  Flow IAT Min       1668665 non-null  int64  \n",
      " 22  Fwd IAT Tot        1668665 non-null  int64  \n",
      " 23  Fwd IAT Mean       1668665 non-null  float32\n",
      " 24  Fwd IAT Std        1668665 non-null  float32\n",
      " 25  Fwd IAT Max        1668665 non-null  int64  \n",
      " 26  Fwd IAT Min        1668665 non-null  int64  \n",
      " 27  Bwd IAT Tot        1668665 non-null  int32  \n",
      " 28  Bwd IAT Mean       1668665 non-null  float32\n",
      " 29  Bwd IAT Std        1668665 non-null  float32\n",
      " 30  Bwd IAT Max        1668665 non-null  int32  \n",
      " 31  Bwd IAT Min        1668665 non-null  int32  \n",
      " 32  Fwd PSH Flags      1668665 non-null  int8   \n",
      " 33  Bwd PSH Flags      1668665 non-null  int8   \n",
      " 34  Fwd URG Flags      1668665 non-null  int8   \n",
      " 35  Bwd URG Flags      1668665 non-null  int8   \n",
      " 36  Fwd Header Len     1668665 non-null  int32  \n",
      " 37  Bwd Header Len     1668665 non-null  int32  \n",
      " 38  Fwd Pkts/s         1668665 non-null  float32\n",
      " 39  Bwd Pkts/s         1668665 non-null  float32\n",
      " 40  Pkt Len Min        1668665 non-null  int16  \n",
      " 41  Pkt Len Max        1668665 non-null  int16  \n",
      " 42  Pkt Len Mean       1668665 non-null  float16\n",
      " 43  Pkt Len Std        1668665 non-null  float16\n",
      " 44  Pkt Len Var        1668665 non-null  float32\n",
      " 45  FIN Flag Cnt       1668665 non-null  int8   \n",
      " 46  SYN Flag Cnt       1668665 non-null  int8   \n",
      " 47  RST Flag Cnt       1668665 non-null  int8   \n",
      " 48  PSH Flag Cnt       1668665 non-null  int8   \n",
      " 49  ACK Flag Cnt       1668665 non-null  int8   \n",
      " 50  URG Flag Cnt       1668665 non-null  int8   \n",
      " 51  CWE Flag Count     1668665 non-null  int8   \n",
      " 52  ECE Flag Cnt       1668665 non-null  int8   \n",
      " 53  Down/Up Ratio      1668665 non-null  int8   \n",
      " 54  Pkt Size Avg       1668665 non-null  float16\n",
      " 55  Fwd Seg Size Avg   1668665 non-null  float16\n",
      " 56  Bwd Seg Size Avg   1668665 non-null  float16\n",
      " 57  Fwd Byts/b Avg     1668665 non-null  int8   \n",
      " 58  Fwd Pkts/b Avg     1668665 non-null  int8   \n",
      " 59  Fwd Blk Rate Avg   1668665 non-null  int8   \n",
      " 60  Bwd Byts/b Avg     1668665 non-null  int8   \n",
      " 61  Bwd Pkts/b Avg     1668665 non-null  int8   \n",
      " 62  Bwd Blk Rate Avg   1668665 non-null  int8   \n",
      " 63  Subflow Fwd Pkts   1668665 non-null  int32  \n",
      " 64  Subflow Fwd Byts   1668665 non-null  int32  \n",
      " 65  Subflow Bwd Pkts   1668665 non-null  int32  \n",
      " 66  Subflow Bwd Byts   1668665 non-null  int32  \n",
      " 67  Init Fwd Win Byts  1668665 non-null  int32  \n",
      " 68  Init Bwd Win Byts  1668665 non-null  int32  \n",
      " 69  Fwd Act Data Pkts  1668665 non-null  int16  \n",
      " 70  Fwd Seg Size Min   1668665 non-null  int8   \n",
      " 71  Active Mean        1668665 non-null  float32\n",
      " 72  Active Std         1668665 non-null  float32\n",
      " 73  Active Max         1668665 non-null  int32  \n",
      " 74  Active Min         1668665 non-null  int32  \n",
      " 75  Idle Mean          1668665 non-null  float32\n",
      " 76  Idle Std           1668665 non-null  float32\n",
      " 77  Idle Max           1668665 non-null  int64  \n",
      " 78  Idle Min           1668665 non-null  int64  \n",
      " 79  Label              1668665 non-null  int64  \n",
      "dtypes: float16(9), float32(13), float64(2), int16(7), int32(19), int64(9), int8(21)\n",
      "memory usage: 440.8 MB\n",
      "<class 'pandas.core.frame.DataFrame'>\n",
      "Index: 417167 entries, 584346 to 381798\n",
      "Data columns (total 80 columns):\n",
      " #   Column             Non-Null Count   Dtype  \n",
      "---  ------             --------------   -----  \n",
      " 0   Dst Port           417167 non-null  int32  \n",
      " 1   Protocol           417167 non-null  int8   \n",
      " 2   Timestamp          417167 non-null  int32  \n",
      " 3   Flow Duration      417167 non-null  int64  \n",
      " 4   Tot Fwd Pkts       417167 non-null  int32  \n",
      " 5   Tot Bwd Pkts       417167 non-null  int32  \n",
      " 6   TotLen Fwd Pkts    417167 non-null  int32  \n",
      " 7   TotLen Bwd Pkts    417167 non-null  int32  \n",
      " 8   Fwd Pkt Len Max    417167 non-null  int16  \n",
      " 9   Fwd Pkt Len Min    417167 non-null  int16  \n",
      " 10  Fwd Pkt Len Mean   417167 non-null  float16\n",
      " 11  Fwd Pkt Len Std    417167 non-null  float16\n",
      " 12  Bwd Pkt Len Max    417167 non-null  int16  \n",
      " 13  Bwd Pkt Len Min    417167 non-null  int16  \n",
      " 14  Bwd Pkt Len Mean   417167 non-null  float16\n",
      " 15  Bwd Pkt Len Std    417167 non-null  float16\n",
      " 16  Flow Byts/s        417167 non-null  float64\n",
      " 17  Flow Pkts/s        417167 non-null  float64\n",
      " 18  Flow IAT Mean      417167 non-null  float32\n",
      " 19  Flow IAT Std       417167 non-null  float32\n",
      " 20  Flow IAT Max       417167 non-null  int64  \n",
      " 21  Flow IAT Min       417167 non-null  int64  \n",
      " 22  Fwd IAT Tot        417167 non-null  int64  \n",
      " 23  Fwd IAT Mean       417167 non-null  float32\n",
      " 24  Fwd IAT Std        417167 non-null  float32\n",
      " 25  Fwd IAT Max        417167 non-null  int64  \n",
      " 26  Fwd IAT Min        417167 non-null  int64  \n",
      " 27  Bwd IAT Tot        417167 non-null  int32  \n",
      " 28  Bwd IAT Mean       417167 non-null  float32\n",
      " 29  Bwd IAT Std        417167 non-null  float32\n",
      " 30  Bwd IAT Max        417167 non-null  int32  \n",
      " 31  Bwd IAT Min        417167 non-null  int32  \n",
      " 32  Fwd PSH Flags      417167 non-null  int8   \n",
      " 33  Bwd PSH Flags      417167 non-null  int8   \n",
      " 34  Fwd URG Flags      417167 non-null  int8   \n",
      " 35  Bwd URG Flags      417167 non-null  int8   \n",
      " 36  Fwd Header Len     417167 non-null  int32  \n",
      " 37  Bwd Header Len     417167 non-null  int32  \n",
      " 38  Fwd Pkts/s         417167 non-null  float32\n",
      " 39  Bwd Pkts/s         417167 non-null  float32\n",
      " 40  Pkt Len Min        417167 non-null  int16  \n",
      " 41  Pkt Len Max        417167 non-null  int16  \n",
      " 42  Pkt Len Mean       417167 non-null  float16\n",
      " 43  Pkt Len Std        417167 non-null  float16\n",
      " 44  Pkt Len Var        417167 non-null  float32\n",
      " 45  FIN Flag Cnt       417167 non-null  int8   \n",
      " 46  SYN Flag Cnt       417167 non-null  int8   \n",
      " 47  RST Flag Cnt       417167 non-null  int8   \n",
      " 48  PSH Flag Cnt       417167 non-null  int8   \n",
      " 49  ACK Flag Cnt       417167 non-null  int8   \n",
      " 50  URG Flag Cnt       417167 non-null  int8   \n",
      " 51  CWE Flag Count     417167 non-null  int8   \n",
      " 52  ECE Flag Cnt       417167 non-null  int8   \n",
      " 53  Down/Up Ratio      417167 non-null  int8   \n",
      " 54  Pkt Size Avg       417167 non-null  float16\n",
      " 55  Fwd Seg Size Avg   417167 non-null  float16\n",
      " 56  Bwd Seg Size Avg   417167 non-null  float16\n",
      " 57  Fwd Byts/b Avg     417167 non-null  int8   \n",
      " 58  Fwd Pkts/b Avg     417167 non-null  int8   \n",
      " 59  Fwd Blk Rate Avg   417167 non-null  int8   \n",
      " 60  Bwd Byts/b Avg     417167 non-null  int8   \n",
      " 61  Bwd Pkts/b Avg     417167 non-null  int8   \n",
      " 62  Bwd Blk Rate Avg   417167 non-null  int8   \n",
      " 63  Subflow Fwd Pkts   417167 non-null  int32  \n",
      " 64  Subflow Fwd Byts   417167 non-null  int32  \n",
      " 65  Subflow Bwd Pkts   417167 non-null  int32  \n",
      " 66  Subflow Bwd Byts   417167 non-null  int32  \n",
      " 67  Init Fwd Win Byts  417167 non-null  int32  \n",
      " 68  Init Bwd Win Byts  417167 non-null  int32  \n",
      " 69  Fwd Act Data Pkts  417167 non-null  int16  \n",
      " 70  Fwd Seg Size Min   417167 non-null  int8   \n",
      " 71  Active Mean        417167 non-null  float32\n",
      " 72  Active Std         417167 non-null  float32\n",
      " 73  Active Max         417167 non-null  int32  \n",
      " 74  Active Min         417167 non-null  int32  \n",
      " 75  Idle Mean          417167 non-null  float32\n",
      " 76  Idle Std           417167 non-null  float32\n",
      " 77  Idle Max           417167 non-null  int64  \n",
      " 78  Idle Min           417167 non-null  int64  \n",
      " 79  Label              417167 non-null  int64  \n",
      "dtypes: float16(9), float32(13), float64(2), int16(7), int32(19), int64(9), int8(21)\n",
      "memory usage: 110.2 MB\n"
     ]
    }
   ],
   "source": [
    "df_train.info()\n",
    "df_test.info()"
   ]
  },
  {
   "cell_type": "code",
   "execution_count": 14,
   "metadata": {},
   "outputs": [
    {
     "data": {
      "text/plain": [
       "Label\n",
       "0    416981\n",
       "1       186\n",
       "Name: count, dtype: int64"
      ]
     },
     "execution_count": 14,
     "metadata": {},
     "output_type": "execute_result"
    }
   ],
   "source": [
    "df_test['Label'].value_counts()"
   ]
  },
  {
   "cell_type": "code",
   "execution_count": 15,
   "metadata": {},
   "outputs": [],
   "source": [
    "datamodule = ExpertPretrainDataModule(df_train, df_test, binarize_on_label=1)"
   ]
  },
  {
   "cell_type": "code",
   "execution_count": 16,
   "metadata": {},
   "outputs": [
    {
     "name": "stdout",
     "output_type": "stream",
     "text": [
      "ExpertModel(\n",
      "  (model): Sequential(\n",
      "    (0): BatchNorm1d(79, eps=1e-05, momentum=0.1, affine=True, track_running_stats=True)\n",
      "    (1): Linear(in_features=79, out_features=256, bias=True)\n",
      "    (2): LeakyReLU(negative_slope=0.01)\n",
      "    (3): BatchNorm1d(256, eps=1e-05, momentum=0.1, affine=True, track_running_stats=True)\n",
      "    (4): Linear(in_features=256, out_features=128, bias=True)\n",
      "    (5): LeakyReLU(negative_slope=0.01)\n",
      "    (6): Linear(in_features=128, out_features=1, bias=True)\n",
      "  )\n",
      ")\n"
     ]
    }
   ],
   "source": [
    "expert_model = ExpertModel(79, [256, 128], learning_rate=1e-4)\n",
    "print(expert_model)"
   ]
  },
  {
   "cell_type": "code",
   "execution_count": 17,
   "metadata": {},
   "outputs": [
    {
     "name": "stderr",
     "output_type": "stream",
     "text": [
      "GPU available: True (cuda), used: True\n",
      "TPU available: False, using: 0 TPU cores\n",
      "HPU available: False, using: 0 HPUs\n",
      "You are using a CUDA device ('NVIDIA GeForce RTX 3060 Laptop GPU') that has Tensor Cores. To properly utilize them, you should set `torch.set_float32_matmul_precision('medium' | 'high')` which will trade-off precision for performance. For more details, read https://pytorch.org/docs/stable/generated/torch.set_float32_matmul_precision.html#torch.set_float32_matmul_precision\n",
      "2024-10-09 12:52:28.660654: E external/local_xla/xla/stream_executor/cuda/cuda_fft.cc:485] Unable to register cuFFT factory: Attempting to register factory for plugin cuFFT when one has already been registered\n",
      "2024-10-09 12:52:28.695350: E external/local_xla/xla/stream_executor/cuda/cuda_dnn.cc:8454] Unable to register cuDNN factory: Attempting to register factory for plugin cuDNN when one has already been registered\n",
      "2024-10-09 12:52:28.705288: E external/local_xla/xla/stream_executor/cuda/cuda_blas.cc:1452] Unable to register cuBLAS factory: Attempting to register factory for plugin cuBLAS when one has already been registered\n",
      "LOCAL_RANK: 0 - CUDA_VISIBLE_DEVICES: [0]\n",
      "\n",
      "  | Name  | Type       | Params | Mode \n",
      "---------------------------------------------\n",
      "0 | model | Sequential | 54.2 K | train\n",
      "---------------------------------------------\n",
      "54.2 K    Trainable params\n",
      "0         Non-trainable params\n",
      "54.2 K    Total params\n",
      "0.217     Total estimated model params size (MB)\n",
      "8         Modules in train mode\n",
      "0         Modules in eval mode\n"
     ]
    },
    {
     "data": {
      "application/vnd.jupyter.widget-view+json": {
       "model_id": "010bf642c25242bea572d1cfae086bad",
       "version_major": 2,
       "version_minor": 0
      },
      "text/plain": [
       "Sanity Checking: |          | 0/? [00:00<?, ?it/s]"
      ]
     },
     "metadata": {},
     "output_type": "display_data"
    },
    {
     "data": {
      "application/vnd.jupyter.widget-view+json": {
       "model_id": "846693c32a84436c90e87f190e7e1e3b",
       "version_major": 2,
       "version_minor": 0
      },
      "text/plain": [
       "Training: |          | 0/? [00:00<?, ?it/s]"
      ]
     },
     "metadata": {},
     "output_type": "display_data"
    },
    {
     "data": {
      "application/vnd.jupyter.widget-view+json": {
       "model_id": "77194d292a964bb580c001e997e5d444",
       "version_major": 2,
       "version_minor": 0
      },
      "text/plain": [
       "Validation: |          | 0/? [00:00<?, ?it/s]"
      ]
     },
     "metadata": {},
     "output_type": "display_data"
    },
    {
     "data": {
      "application/vnd.jupyter.widget-view+json": {
       "model_id": "b94bf2ba503f41f5b54b8ea807fd8652",
       "version_major": 2,
       "version_minor": 0
      },
      "text/plain": [
       "Validation: |          | 0/? [00:00<?, ?it/s]"
      ]
     },
     "metadata": {},
     "output_type": "display_data"
    },
    {
     "data": {
      "application/vnd.jupyter.widget-view+json": {
       "model_id": "fd4d57ff37b34958a15793c354b3021a",
       "version_major": 2,
       "version_minor": 0
      },
      "text/plain": [
       "Validation: |          | 0/? [00:00<?, ?it/s]"
      ]
     },
     "metadata": {},
     "output_type": "display_data"
    },
    {
     "data": {
      "application/vnd.jupyter.widget-view+json": {
       "model_id": "e289377926f7421a8b1576f93beabf46",
       "version_major": 2,
       "version_minor": 0
      },
      "text/plain": [
       "Validation: |          | 0/? [00:00<?, ?it/s]"
      ]
     },
     "metadata": {},
     "output_type": "display_data"
    },
    {
     "data": {
      "application/vnd.jupyter.widget-view+json": {
       "model_id": "dfafaa4611e04925aabe04ca7fd663b1",
       "version_major": 2,
       "version_minor": 0
      },
      "text/plain": [
       "Validation: |          | 0/? [00:00<?, ?it/s]"
      ]
     },
     "metadata": {},
     "output_type": "display_data"
    },
    {
     "data": {
      "application/vnd.jupyter.widget-view+json": {
       "model_id": "1a4f1041e23e4ee7aa86391766365580",
       "version_major": 2,
       "version_minor": 0
      },
      "text/plain": [
       "Validation: |          | 0/? [00:00<?, ?it/s]"
      ]
     },
     "metadata": {},
     "output_type": "display_data"
    },
    {
     "data": {
      "application/vnd.jupyter.widget-view+json": {
       "model_id": "9578fc678ad24d5b8b3c2fe75b969f59",
       "version_major": 2,
       "version_minor": 0
      },
      "text/plain": [
       "Validation: |          | 0/? [00:00<?, ?it/s]"
      ]
     },
     "metadata": {},
     "output_type": "display_data"
    },
    {
     "data": {
      "application/vnd.jupyter.widget-view+json": {
       "model_id": "d08d0e268f92465a8f97312649607229",
       "version_major": 2,
       "version_minor": 0
      },
      "text/plain": [
       "Validation: |          | 0/? [00:00<?, ?it/s]"
      ]
     },
     "metadata": {},
     "output_type": "display_data"
    },
    {
     "data": {
      "application/vnd.jupyter.widget-view+json": {
       "model_id": "978d3aa3d5a743d79cd81daeb33b7ef5",
       "version_major": 2,
       "version_minor": 0
      },
      "text/plain": [
       "Validation: |          | 0/? [00:00<?, ?it/s]"
      ]
     },
     "metadata": {},
     "output_type": "display_data"
    },
    {
     "data": {
      "application/vnd.jupyter.widget-view+json": {
       "model_id": "cf91bd67620a499483247f315410989c",
       "version_major": 2,
       "version_minor": 0
      },
      "text/plain": [
       "Validation: |          | 0/? [00:00<?, ?it/s]"
      ]
     },
     "metadata": {},
     "output_type": "display_data"
    },
    {
     "data": {
      "application/vnd.jupyter.widget-view+json": {
       "model_id": "a97b57da0a5342cc9870693894b0f352",
       "version_major": 2,
       "version_minor": 0
      },
      "text/plain": [
       "Validation: |          | 0/? [00:00<?, ?it/s]"
      ]
     },
     "metadata": {},
     "output_type": "display_data"
    },
    {
     "data": {
      "application/vnd.jupyter.widget-view+json": {
       "model_id": "11c09d18e35d49a5b6d93276128602ff",
       "version_major": 2,
       "version_minor": 0
      },
      "text/plain": [
       "Validation: |          | 0/? [00:00<?, ?it/s]"
      ]
     },
     "metadata": {},
     "output_type": "display_data"
    },
    {
     "data": {
      "application/vnd.jupyter.widget-view+json": {
       "model_id": "1950f4fcee744ae380858b7aff7726a2",
       "version_major": 2,
       "version_minor": 0
      },
      "text/plain": [
       "Validation: |          | 0/? [00:00<?, ?it/s]"
      ]
     },
     "metadata": {},
     "output_type": "display_data"
    },
    {
     "data": {
      "application/vnd.jupyter.widget-view+json": {
       "model_id": "d2b350440e9b4aa09161ac08ab2def89",
       "version_major": 2,
       "version_minor": 0
      },
      "text/plain": [
       "Validation: |          | 0/? [00:00<?, ?it/s]"
      ]
     },
     "metadata": {},
     "output_type": "display_data"
    },
    {
     "data": {
      "application/vnd.jupyter.widget-view+json": {
       "model_id": "50f95ffc754d412f9d2118a2910a2de7",
       "version_major": 2,
       "version_minor": 0
      },
      "text/plain": [
       "Validation: |          | 0/? [00:00<?, ?it/s]"
      ]
     },
     "metadata": {},
     "output_type": "display_data"
    },
    {
     "data": {
      "application/vnd.jupyter.widget-view+json": {
       "model_id": "59d232948ae64dc09cbe029e0410f88e",
       "version_major": 2,
       "version_minor": 0
      },
      "text/plain": [
       "Validation: |          | 0/? [00:00<?, ?it/s]"
      ]
     },
     "metadata": {},
     "output_type": "display_data"
    },
    {
     "data": {
      "application/vnd.jupyter.widget-view+json": {
       "model_id": "60771e504fb642ce9bbeceffff165082",
       "version_major": 2,
       "version_minor": 0
      },
      "text/plain": [
       "Validation: |          | 0/? [00:00<?, ?it/s]"
      ]
     },
     "metadata": {},
     "output_type": "display_data"
    },
    {
     "data": {
      "application/vnd.jupyter.widget-view+json": {
       "model_id": "40a0f17a4e5d431e8fba9966e4463232",
       "version_major": 2,
       "version_minor": 0
      },
      "text/plain": [
       "Validation: |          | 0/? [00:00<?, ?it/s]"
      ]
     },
     "metadata": {},
     "output_type": "display_data"
    },
    {
     "data": {
      "application/vnd.jupyter.widget-view+json": {
       "model_id": "cef644d7967241b8becaf32ed2eb280e",
       "version_major": 2,
       "version_minor": 0
      },
      "text/plain": [
       "Validation: |          | 0/? [00:00<?, ?it/s]"
      ]
     },
     "metadata": {},
     "output_type": "display_data"
    },
    {
     "data": {
      "application/vnd.jupyter.widget-view+json": {
       "model_id": "5e9bc270ed0942f4ac21934279defdfb",
       "version_major": 2,
       "version_minor": 0
      },
      "text/plain": [
       "Validation: |          | 0/? [00:00<?, ?it/s]"
      ]
     },
     "metadata": {},
     "output_type": "display_data"
    },
    {
     "data": {
      "application/vnd.jupyter.widget-view+json": {
       "model_id": "390fc18332654474804f6f4dcb65ffa8",
       "version_major": 2,
       "version_minor": 0
      },
      "text/plain": [
       "Validation: |          | 0/? [00:00<?, ?it/s]"
      ]
     },
     "metadata": {},
     "output_type": "display_data"
    },
    {
     "data": {
      "application/vnd.jupyter.widget-view+json": {
       "model_id": "87c3f8ebb3324eb0a9efa282c44e8309",
       "version_major": 2,
       "version_minor": 0
      },
      "text/plain": [
       "Validation: |          | 0/? [00:00<?, ?it/s]"
      ]
     },
     "metadata": {},
     "output_type": "display_data"
    },
    {
     "data": {
      "application/vnd.jupyter.widget-view+json": {
       "model_id": "5d01537910ec454a89970e8ba2d1d729",
       "version_major": 2,
       "version_minor": 0
      },
      "text/plain": [
       "Validation: |          | 0/? [00:00<?, ?it/s]"
      ]
     },
     "metadata": {},
     "output_type": "display_data"
    },
    {
     "data": {
      "application/vnd.jupyter.widget-view+json": {
       "model_id": "8be0d5930d2246e1bd7e3261ae1bf705",
       "version_major": 2,
       "version_minor": 0
      },
      "text/plain": [
       "Validation: |          | 0/? [00:00<?, ?it/s]"
      ]
     },
     "metadata": {},
     "output_type": "display_data"
    },
    {
     "data": {
      "application/vnd.jupyter.widget-view+json": {
       "model_id": "2b450640b4ea4761a751700ef5548104",
       "version_major": 2,
       "version_minor": 0
      },
      "text/plain": [
       "Validation: |          | 0/? [00:00<?, ?it/s]"
      ]
     },
     "metadata": {},
     "output_type": "display_data"
    },
    {
     "data": {
      "application/vnd.jupyter.widget-view+json": {
       "model_id": "103e1b3579dc4a51bf0f86176f0b12e9",
       "version_major": 2,
       "version_minor": 0
      },
      "text/plain": [
       "Validation: |          | 0/? [00:00<?, ?it/s]"
      ]
     },
     "metadata": {},
     "output_type": "display_data"
    },
    {
     "data": {
      "application/vnd.jupyter.widget-view+json": {
       "model_id": "7bcf6d173fa441779f8e1d2517c17778",
       "version_major": 2,
       "version_minor": 0
      },
      "text/plain": [
       "Validation: |          | 0/? [00:00<?, ?it/s]"
      ]
     },
     "metadata": {},
     "output_type": "display_data"
    },
    {
     "data": {
      "application/vnd.jupyter.widget-view+json": {
       "model_id": "b66a7f27e79d41068247c058bc0e07a3",
       "version_major": 2,
       "version_minor": 0
      },
      "text/plain": [
       "Validation: |          | 0/? [00:00<?, ?it/s]"
      ]
     },
     "metadata": {},
     "output_type": "display_data"
    },
    {
     "data": {
      "application/vnd.jupyter.widget-view+json": {
       "model_id": "ff7ce8a590ca4a1fa5ee1927fcf71395",
       "version_major": 2,
       "version_minor": 0
      },
      "text/plain": [
       "Validation: |          | 0/? [00:00<?, ?it/s]"
      ]
     },
     "metadata": {},
     "output_type": "display_data"
    },
    {
     "data": {
      "application/vnd.jupyter.widget-view+json": {
       "model_id": "d438890600fb46ecaeb92a3421181914",
       "version_major": 2,
       "version_minor": 0
      },
      "text/plain": [
       "Validation: |          | 0/? [00:00<?, ?it/s]"
      ]
     },
     "metadata": {},
     "output_type": "display_data"
    },
    {
     "data": {
      "application/vnd.jupyter.widget-view+json": {
       "model_id": "19a9c17431d8488fb1ae449a021ad9b3",
       "version_major": 2,
       "version_minor": 0
      },
      "text/plain": [
       "Validation: |          | 0/? [00:00<?, ?it/s]"
      ]
     },
     "metadata": {},
     "output_type": "display_data"
    },
    {
     "data": {
      "application/vnd.jupyter.widget-view+json": {
       "model_id": "84f575ee6e224fab9bc4fd17e4261b1b",
       "version_major": 2,
       "version_minor": 0
      },
      "text/plain": [
       "Validation: |          | 0/? [00:00<?, ?it/s]"
      ]
     },
     "metadata": {},
     "output_type": "display_data"
    },
    {
     "data": {
      "application/vnd.jupyter.widget-view+json": {
       "model_id": "1b378a07fb0943cba60ebbe9e17751fc",
       "version_major": 2,
       "version_minor": 0
      },
      "text/plain": [
       "Validation: |          | 0/? [00:00<?, ?it/s]"
      ]
     },
     "metadata": {},
     "output_type": "display_data"
    },
    {
     "data": {
      "application/vnd.jupyter.widget-view+json": {
       "model_id": "8807c8bf38a446678c22af038be093eb",
       "version_major": 2,
       "version_minor": 0
      },
      "text/plain": [
       "Validation: |          | 0/? [00:00<?, ?it/s]"
      ]
     },
     "metadata": {},
     "output_type": "display_data"
    },
    {
     "data": {
      "application/vnd.jupyter.widget-view+json": {
       "model_id": "b15417d165064367a7f07c7f7b82c309",
       "version_major": 2,
       "version_minor": 0
      },
      "text/plain": [
       "Validation: |          | 0/? [00:00<?, ?it/s]"
      ]
     },
     "metadata": {},
     "output_type": "display_data"
    },
    {
     "data": {
      "application/vnd.jupyter.widget-view+json": {
       "model_id": "c65577aab77542a8ae41da65e7a347f2",
       "version_major": 2,
       "version_minor": 0
      },
      "text/plain": [
       "Validation: |          | 0/? [00:00<?, ?it/s]"
      ]
     },
     "metadata": {},
     "output_type": "display_data"
    },
    {
     "data": {
      "application/vnd.jupyter.widget-view+json": {
       "model_id": "19af4c44e92f46409416cbf59aa01441",
       "version_major": 2,
       "version_minor": 0
      },
      "text/plain": [
       "Validation: |          | 0/? [00:00<?, ?it/s]"
      ]
     },
     "metadata": {},
     "output_type": "display_data"
    },
    {
     "data": {
      "application/vnd.jupyter.widget-view+json": {
       "model_id": "ae4b025f15b54d63bfd33b242132f18c",
       "version_major": 2,
       "version_minor": 0
      },
      "text/plain": [
       "Validation: |          | 0/? [00:00<?, ?it/s]"
      ]
     },
     "metadata": {},
     "output_type": "display_data"
    },
    {
     "data": {
      "application/vnd.jupyter.widget-view+json": {
       "model_id": "83f06fdcf1c04bfab145dcda7f025884",
       "version_major": 2,
       "version_minor": 0
      },
      "text/plain": [
       "Validation: |          | 0/? [00:00<?, ?it/s]"
      ]
     },
     "metadata": {},
     "output_type": "display_data"
    },
    {
     "data": {
      "application/vnd.jupyter.widget-view+json": {
       "model_id": "d12435842e4940a1bc5f9dbaaf1b3c17",
       "version_major": 2,
       "version_minor": 0
      },
      "text/plain": [
       "Validation: |          | 0/? [00:00<?, ?it/s]"
      ]
     },
     "metadata": {},
     "output_type": "display_data"
    },
    {
     "data": {
      "application/vnd.jupyter.widget-view+json": {
       "model_id": "38527bda969b417ebafde2ef4c717c53",
       "version_major": 2,
       "version_minor": 0
      },
      "text/plain": [
       "Validation: |          | 0/? [00:00<?, ?it/s]"
      ]
     },
     "metadata": {},
     "output_type": "display_data"
    },
    {
     "data": {
      "application/vnd.jupyter.widget-view+json": {
       "model_id": "afe6a5a3d9bb46dab927ebff64c093e2",
       "version_major": 2,
       "version_minor": 0
      },
      "text/plain": [
       "Validation: |          | 0/? [00:00<?, ?it/s]"
      ]
     },
     "metadata": {},
     "output_type": "display_data"
    },
    {
     "data": {
      "application/vnd.jupyter.widget-view+json": {
       "model_id": "75f8cf197288477d9cd05c472b5463ea",
       "version_major": 2,
       "version_minor": 0
      },
      "text/plain": [
       "Validation: |          | 0/? [00:00<?, ?it/s]"
      ]
     },
     "metadata": {},
     "output_type": "display_data"
    },
    {
     "data": {
      "application/vnd.jupyter.widget-view+json": {
       "model_id": "a6f9068194e7472bb235573d3c7fa086",
       "version_major": 2,
       "version_minor": 0
      },
      "text/plain": [
       "Validation: |          | 0/? [00:00<?, ?it/s]"
      ]
     },
     "metadata": {},
     "output_type": "display_data"
    },
    {
     "data": {
      "application/vnd.jupyter.widget-view+json": {
       "model_id": "8bcc9a9ba9ee4eb9af9185f096939f00",
       "version_major": 2,
       "version_minor": 0
      },
      "text/plain": [
       "Validation: |          | 0/? [00:00<?, ?it/s]"
      ]
     },
     "metadata": {},
     "output_type": "display_data"
    },
    {
     "data": {
      "application/vnd.jupyter.widget-view+json": {
       "model_id": "4f0b874f38654b3eb7ccb6c881d60079",
       "version_major": 2,
       "version_minor": 0
      },
      "text/plain": [
       "Validation: |          | 0/? [00:00<?, ?it/s]"
      ]
     },
     "metadata": {},
     "output_type": "display_data"
    },
    {
     "data": {
      "application/vnd.jupyter.widget-view+json": {
       "model_id": "4f402badac4b4d34b7b732e9c4f9e3f2",
       "version_major": 2,
       "version_minor": 0
      },
      "text/plain": [
       "Validation: |          | 0/? [00:00<?, ?it/s]"
      ]
     },
     "metadata": {},
     "output_type": "display_data"
    },
    {
     "data": {
      "application/vnd.jupyter.widget-view+json": {
       "model_id": "3ee9551c69844137a1705c6553e6f98b",
       "version_major": 2,
       "version_minor": 0
      },
      "text/plain": [
       "Validation: |          | 0/? [00:00<?, ?it/s]"
      ]
     },
     "metadata": {},
     "output_type": "display_data"
    },
    {
     "data": {
      "application/vnd.jupyter.widget-view+json": {
       "model_id": "3ca466e8b6c443918efe0cbb2bd435d2",
       "version_major": 2,
       "version_minor": 0
      },
      "text/plain": [
       "Validation: |          | 0/? [00:00<?, ?it/s]"
      ]
     },
     "metadata": {},
     "output_type": "display_data"
    },
    {
     "data": {
      "application/vnd.jupyter.widget-view+json": {
       "model_id": "d9e6009fd1474a4eb44c153f86eb983b",
       "version_major": 2,
       "version_minor": 0
      },
      "text/plain": [
       "Validation: |          | 0/? [00:00<?, ?it/s]"
      ]
     },
     "metadata": {},
     "output_type": "display_data"
    },
    {
     "name": "stderr",
     "output_type": "stream",
     "text": [
      "`Trainer.fit` stopped: `max_epochs=50` reached.\n"
     ]
    }
   ],
   "source": [
    "logger = TensorBoardLogger(f\"../../../../../logs/expert/no_preprocess/no_autoencoder/xss\", name=\"expert_tensorboard\")\n",
    "csv_logger = CSVLogger(f\"../../../../../logs/expert/no_preprocess/no_autoencoder/xss\", name=\"expert_csv\")\n",
    "lr_monitor = LearningRateMonitor(logging_interval='epoch')\n",
    "\n",
    "\n",
    "trainer = pl.Trainer(\n",
    "        max_epochs=50,\n",
    "        logger=[logger, csv_logger],\n",
    "        callbacks=[lr_monitor],\n",
    "        accelerator='gpu',\n",
    "        precision='64-true',\n",
    ")\n",
    "\n",
    "trainer.fit(expert_model, datamodule=datamodule)"
   ]
  }
 ],
 "metadata": {
  "kernelspec": {
   "display_name": "env",
   "language": "python",
   "name": "python3"
  },
  "language_info": {
   "codemirror_mode": {
    "name": "ipython",
    "version": 3
   },
   "file_extension": ".py",
   "mimetype": "text/x-python",
   "name": "python",
   "nbconvert_exporter": "python",
   "pygments_lexer": "ipython3",
   "version": "3.11.9"
  }
 },
 "nbformat": 4,
 "nbformat_minor": 2
}
